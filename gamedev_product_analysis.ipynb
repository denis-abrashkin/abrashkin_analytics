{
 "cells": [
  {
   "cell_type": "code",
   "execution_count": 1,
   "metadata": {},
   "outputs": [
    {
     "name": "stderr",
     "output_type": "stream",
     "text": [
      "/opt/tljh/user/lib/python3.7/site-packages/outdated/utils.py:18: OutdatedCacheFailedWarning: Failed to use cache while checking for outdated package.\n",
      "Set the environment variable OUTDATED_RAISE_EXCEPTION=1 for a full traceback.\n",
      "Set the environment variable OUTDATED_IGNORE=1 to disable these warnings.\n",
      "  **kwargs\n",
      "/opt/tljh/user/lib/python3.7/site-packages/outdated/utils.py:18: OutdatedPackageWarning: The package pingouin is out of date. Your version is 0.4.0, the latest is 0.5.1.\n",
      "Set the environment variable OUTDATED_IGNORE=1 to disable these warnings.\n",
      "  **kwargs\n"
     ]
    }
   ],
   "source": [
    "import pandas as pd\n",
    "import numpy as np\n",
    "\n",
    "import pingouin as pg\n",
    "from scipy.stats import mannwhitneyu\n",
    "from scipy.stats import norm\n",
    "from statsmodels.stats.proportion import proportions_ztest\n",
    "\n",
    "import matplotlib.pyplot as plt\n",
    "import seaborn as sns\n",
    "\n",
    "from datetime import datetime\n",
    "from tqdm.auto import tqdm\n",
    "\n",
    "%matplotlib inline"
   ]
  },
  {
   "cell_type": "markdown",
   "metadata": {},
   "source": [
    "# Задача 1\n",
    "Написать функцию на языке Python, которая будет принимать в себя датасет и считать **retention** игроков (по дням от даты регистрации игрока)."
   ]
  },
  {
   "cell_type": "markdown",
   "metadata": {},
   "source": [
    "### Загрузка исходных данных для первой задачи"
   ]
  },
  {
   "cell_type": "code",
   "execution_count": 2,
   "metadata": {},
   "outputs": [],
   "source": [
    "reg_df  = pd.read_csv('https://getfile.dokpub.com/yandex/get/https://disk.yandex.ru/d/BQ1-qD8o67JjHg', sep=';')\n",
    "auth_df = pd.read_csv('https://getfile.dokpub.com/yandex/get/https://disk.yandex.ru/d/c_50rJhKWZ_pCQ', sep=';')"
   ]
  },
  {
   "cell_type": "markdown",
   "metadata": {},
   "source": [
    "### Описание данных в таблице reg_df\n",
    "\n",
    "В таблице представлены данные о времени регистрации.\n",
    "\n",
    "- **reg_ts** - timestamp с временем регистрации\n",
    "- **uid** - столбец с **user id** пользователей"
   ]
  },
  {
   "cell_type": "code",
   "execution_count": 3,
   "metadata": {},
   "outputs": [
    {
     "name": "stdout",
     "output_type": "stream",
     "text": [
      "<class 'pandas.core.frame.DataFrame'>\n",
      "RangeIndex: 1000000 entries, 0 to 999999\n",
      "Data columns (total 2 columns):\n",
      " #   Column  Non-Null Count    Dtype\n",
      "---  ------  --------------    -----\n",
      " 0   reg_ts  1000000 non-null  int64\n",
      " 1   uid     1000000 non-null  int64\n",
      "dtypes: int64(2)\n",
      "memory usage: 15.3 MB\n"
     ]
    }
   ],
   "source": [
    "reg_df.info()"
   ]
  },
  {
   "cell_type": "code",
   "execution_count": 4,
   "metadata": {},
   "outputs": [
    {
     "data": {
      "text/html": [
       "<div>\n",
       "<style scoped>\n",
       "    .dataframe tbody tr th:only-of-type {\n",
       "        vertical-align: middle;\n",
       "    }\n",
       "\n",
       "    .dataframe tbody tr th {\n",
       "        vertical-align: top;\n",
       "    }\n",
       "\n",
       "    .dataframe thead th {\n",
       "        text-align: right;\n",
       "    }\n",
       "</style>\n",
       "<table border=\"1\" class=\"dataframe\">\n",
       "  <thead>\n",
       "    <tr style=\"text-align: right;\">\n",
       "      <th></th>\n",
       "      <th>reg_ts</th>\n",
       "      <th>uid</th>\n",
       "    </tr>\n",
       "  </thead>\n",
       "  <tbody>\n",
       "    <tr>\n",
       "      <th>0</th>\n",
       "      <td>911382223</td>\n",
       "      <td>1</td>\n",
       "    </tr>\n",
       "    <tr>\n",
       "      <th>1</th>\n",
       "      <td>932683089</td>\n",
       "      <td>2</td>\n",
       "    </tr>\n",
       "    <tr>\n",
       "      <th>2</th>\n",
       "      <td>947802447</td>\n",
       "      <td>3</td>\n",
       "    </tr>\n",
       "    <tr>\n",
       "      <th>3</th>\n",
       "      <td>959523541</td>\n",
       "      <td>4</td>\n",
       "    </tr>\n",
       "    <tr>\n",
       "      <th>4</th>\n",
       "      <td>969103313</td>\n",
       "      <td>5</td>\n",
       "    </tr>\n",
       "  </tbody>\n",
       "</table>\n",
       "</div>"
      ],
      "text/plain": [
       "      reg_ts  uid\n",
       "0  911382223    1\n",
       "1  932683089    2\n",
       "2  947802447    3\n",
       "3  959523541    4\n",
       "4  969103313    5"
      ]
     },
     "execution_count": 4,
     "metadata": {},
     "output_type": "execute_result"
    }
   ],
   "source": [
    "reg_df.head()"
   ]
  },
  {
   "cell_type": "markdown",
   "metadata": {},
   "source": [
    "### Описание данных в таблице auth_df\n",
    "\n",
    "В таблице представлены данные о времени входа пользователей в игру.\n",
    "\n",
    "- **auth_ts** - timestamp с временем захода пользователей в игру\n",
    "- **uid** - столбец с **user id** пользователей"
   ]
  },
  {
   "cell_type": "code",
   "execution_count": 5,
   "metadata": {},
   "outputs": [
    {
     "name": "stdout",
     "output_type": "stream",
     "text": [
      "<class 'pandas.core.frame.DataFrame'>\n",
      "RangeIndex: 9601013 entries, 0 to 9601012\n",
      "Data columns (total 2 columns):\n",
      " #   Column   Dtype\n",
      "---  ------   -----\n",
      " 0   auth_ts  int64\n",
      " 1   uid      int64\n",
      "dtypes: int64(2)\n",
      "memory usage: 146.5 MB\n"
     ]
    }
   ],
   "source": [
    "auth_df.info()"
   ]
  },
  {
   "cell_type": "code",
   "execution_count": 6,
   "metadata": {},
   "outputs": [
    {
     "data": {
      "text/html": [
       "<div>\n",
       "<style scoped>\n",
       "    .dataframe tbody tr th:only-of-type {\n",
       "        vertical-align: middle;\n",
       "    }\n",
       "\n",
       "    .dataframe tbody tr th {\n",
       "        vertical-align: top;\n",
       "    }\n",
       "\n",
       "    .dataframe thead th {\n",
       "        text-align: right;\n",
       "    }\n",
       "</style>\n",
       "<table border=\"1\" class=\"dataframe\">\n",
       "  <thead>\n",
       "    <tr style=\"text-align: right;\">\n",
       "      <th></th>\n",
       "      <th>auth_ts</th>\n",
       "      <th>uid</th>\n",
       "    </tr>\n",
       "  </thead>\n",
       "  <tbody>\n",
       "    <tr>\n",
       "      <th>0</th>\n",
       "      <td>911382223</td>\n",
       "      <td>1</td>\n",
       "    </tr>\n",
       "    <tr>\n",
       "      <th>1</th>\n",
       "      <td>932683089</td>\n",
       "      <td>2</td>\n",
       "    </tr>\n",
       "    <tr>\n",
       "      <th>2</th>\n",
       "      <td>932921206</td>\n",
       "      <td>2</td>\n",
       "    </tr>\n",
       "    <tr>\n",
       "      <th>3</th>\n",
       "      <td>933393015</td>\n",
       "      <td>2</td>\n",
       "    </tr>\n",
       "    <tr>\n",
       "      <th>4</th>\n",
       "      <td>933875379</td>\n",
       "      <td>2</td>\n",
       "    </tr>\n",
       "  </tbody>\n",
       "</table>\n",
       "</div>"
      ],
      "text/plain": [
       "     auth_ts  uid\n",
       "0  911382223    1\n",
       "1  932683089    2\n",
       "2  932921206    2\n",
       "3  933393015    2\n",
       "4  933875379    2"
      ]
     },
     "execution_count": 6,
     "metadata": {},
     "output_type": "execute_result"
    }
   ],
   "source": [
    "auth_df.head()"
   ]
  },
  {
   "cell_type": "markdown",
   "metadata": {},
   "source": [
    "### Привидение типов\n",
    "Так как в данных даты представлены в формате **timestamp**, то рационально перевести тип данных в **datetime** и оставить только даты, исключив время совершаемого действия, чтобы было проще воспринимать информацию и строить когортный анализ."
   ]
  },
  {
   "cell_type": "code",
   "execution_count": 7,
   "metadata": {},
   "outputs": [],
   "source": [
    "reg_df['reg_ts'] = pd.to_datetime(reg_df.reg_ts, unit='s')\n",
    "reg_df['reg_ts'] = reg_df.reg_ts.apply(lambda x: x.date())"
   ]
  },
  {
   "cell_type": "code",
   "execution_count": 8,
   "metadata": {},
   "outputs": [],
   "source": [
    "auth_df['auth_ts'] = pd.to_datetime(auth_df.auth_ts, unit='s')\n",
    "auth_df['auth_ts'] = auth_df.auth_ts.apply(lambda x: x.date())"
   ]
  },
  {
   "cell_type": "markdown",
   "metadata": {},
   "source": [
    "### Объединение датафреймов\n",
    "Для выполнения исходной задачи необходимо объединить имеющиеся датафреймы. Сделаем это посредством **left join** таблицы с датами регистрации к таблице с данными о входе в приложение по колонке **uid**."
   ]
  },
  {
   "cell_type": "code",
   "execution_count": 9,
   "metadata": {},
   "outputs": [],
   "source": [
    "retention_data = auth_df.merge(reg_df, how='left', on='uid')"
   ]
  },
  {
   "cell_type": "markdown",
   "metadata": {},
   "source": [
    "### Требуемая функция"
   ]
  },
  {
   "cell_type": "code",
   "execution_count": 10,
   "metadata": {},
   "outputs": [],
   "source": [
    "def cohort_analysis(data, start_cohort, end_cohort, start_period, end_period):\n",
    "    \n",
    "    \"\"\"\n",
    "       Функция реализует метод построения когорт для изучения retention пользователей приложения по дням.\n",
    "       \n",
    "       Параметры\n",
    "       ---------\n",
    "       data: pandas DataFrame\n",
    "           Датасет\n",
    "       \n",
    "       start_cohort: string\n",
    "           Строка, содержащая начальную для анализа когорту (дату формата гггг-мм-дд)\n",
    "       \n",
    "       end_cohort:   string\n",
    "           Строка, содержащая конечнную для анализа когорту (дату формата гггг-мм-дд)\n",
    "           \n",
    "       start_period: int\n",
    "           Число, содержащее в себе начальное для анализа количество дней, прошедших со дня регистрации\n",
    "       \n",
    "       end_period:   int\n",
    "           Число, содержащее в себе корнечное для анализа количество дней, прошедших со дня регистрации    \n",
    "    \"\"\"\n",
    "    \n",
    "    # Привидем типы данных для последующей фильтрации по датам\n",
    "    start_cohort = pd.to_datetime(start_cohort)\n",
    "    end_cohort = pd.to_datetime(end_cohort)\n",
    "    \n",
    "    # Группируем данные по когортам и датам авторизации\n",
    "    # Считаем количество пользователей, совершивших авторизацию, в каждом периоде по каждой когорте\n",
    "    cohort_df = retention_data \\\n",
    "        .groupby(['reg_ts', 'auth_ts'], as_index=False) \\\n",
    "        .agg(n_users=('uid', 'nunique')) \\\n",
    "        .rename(columns={'reg_ts': 'cohort'})\n",
    "    \n",
    "    # Создадим колонку, в которой найдем разницу в днях между датой регистрации и датой авторизации\n",
    "    cohort_df['period_num'] = (cohort_df.auth_ts - cohort_df.cohort).dt.days\n",
    "    \n",
    "    # Преобразуем данные в сводную таблицу\n",
    "    cohort_pivot = cohort_df.pivot_table(index   = 'cohort',        # Строки - когорты\n",
    "                                         columns = 'period_num',    # Колонки - периоды (разница между когортой)\n",
    "                                         values  = 'n_users')       # Значения - количество пользователей, вошедших в игру\n",
    "    \n",
    "    # Создаем pdSeries с количеством зарегистрировавшихся пользователей, в когорте\n",
    "    cohort_size = cohort_pivot.iloc[:,0]\n",
    "    \n",
    "    # Рассчитываем retention: долю атворизовавшихся пользователей в периоде относительно количества пользователей в когорте\n",
    "    retention_matrix = cohort_pivot.divide(cohort_size, axis = 0)\n",
    "    \n",
    "    # Фильтруем данные по интересующим нас когортам и периодам\n",
    "    retention_matrix = retention_matrix.loc[start_cohort:end_cohort, start_period:end_period]\n",
    "    \n",
    "    # Наводим марафет\n",
    "    cohort_style = (retention_matrix\n",
    "            .style\n",
    "            .set_caption('User retention by cohort')  # Добавляем подпись\n",
    "            .background_gradient(cmap='summer')       # Раскрашиваем ячейки по столбцам\n",
    "            .highlight_null('white')                  # Делаем белый фон для значений NaN\n",
    "            .format(\"{:.2%}\", na_rep=\"\"))             # Числа форматируем как проценты, NaN заменяем на пустоту\n",
    "    \n",
    "    return cohort_style"
   ]
  },
  {
   "cell_type": "markdown",
   "metadata": {},
   "source": [
    "### Результат работы функции\n",
    "Построим когортный анализ для когорт с **2020-09-10** по **2020-09-23** и в периоде с **дня регистрации** по **13** день пользования приложением."
   ]
  },
  {
   "cell_type": "code",
   "execution_count": 11,
   "metadata": {},
   "outputs": [
    {
     "data": {
      "text/html": [
       "<style  type=\"text/css\" >\n",
       "#T_78ead602_ca3d_11ec_bdbb_96000040dfb6row0_col0,#T_78ead602_ca3d_11ec_bdbb_96000040dfb6row0_col13,#T_78ead602_ca3d_11ec_bdbb_96000040dfb6row1_col0,#T_78ead602_ca3d_11ec_bdbb_96000040dfb6row1_col12,#T_78ead602_ca3d_11ec_bdbb_96000040dfb6row2_col0,#T_78ead602_ca3d_11ec_bdbb_96000040dfb6row2_col11,#T_78ead602_ca3d_11ec_bdbb_96000040dfb6row3_col0,#T_78ead602_ca3d_11ec_bdbb_96000040dfb6row3_col10,#T_78ead602_ca3d_11ec_bdbb_96000040dfb6row4_col0,#T_78ead602_ca3d_11ec_bdbb_96000040dfb6row4_col9,#T_78ead602_ca3d_11ec_bdbb_96000040dfb6row5_col0,#T_78ead602_ca3d_11ec_bdbb_96000040dfb6row5_col8,#T_78ead602_ca3d_11ec_bdbb_96000040dfb6row6_col0,#T_78ead602_ca3d_11ec_bdbb_96000040dfb6row6_col7,#T_78ead602_ca3d_11ec_bdbb_96000040dfb6row7_col0,#T_78ead602_ca3d_11ec_bdbb_96000040dfb6row7_col6,#T_78ead602_ca3d_11ec_bdbb_96000040dfb6row8_col0,#T_78ead602_ca3d_11ec_bdbb_96000040dfb6row8_col5,#T_78ead602_ca3d_11ec_bdbb_96000040dfb6row9_col0,#T_78ead602_ca3d_11ec_bdbb_96000040dfb6row9_col4,#T_78ead602_ca3d_11ec_bdbb_96000040dfb6row10_col0,#T_78ead602_ca3d_11ec_bdbb_96000040dfb6row10_col3,#T_78ead602_ca3d_11ec_bdbb_96000040dfb6row11_col0,#T_78ead602_ca3d_11ec_bdbb_96000040dfb6row11_col2,#T_78ead602_ca3d_11ec_bdbb_96000040dfb6row12_col0,#T_78ead602_ca3d_11ec_bdbb_96000040dfb6row12_col1,#T_78ead602_ca3d_11ec_bdbb_96000040dfb6row13_col0{\n",
       "            background-color:  #008066;\n",
       "            color:  #f1f1f1;\n",
       "        }#T_78ead602_ca3d_11ec_bdbb_96000040dfb6row0_col1{\n",
       "            background-color:  #c0e066;\n",
       "            color:  #000000;\n",
       "        }#T_78ead602_ca3d_11ec_bdbb_96000040dfb6row0_col2{\n",
       "            background-color:  #d6eb66;\n",
       "            color:  #000000;\n",
       "        }#T_78ead602_ca3d_11ec_bdbb_96000040dfb6row0_col3,#T_78ead602_ca3d_11ec_bdbb_96000040dfb6row0_col5,#T_78ead602_ca3d_11ec_bdbb_96000040dfb6row0_col7,#T_78ead602_ca3d_11ec_bdbb_96000040dfb6row0_col12,#T_78ead602_ca3d_11ec_bdbb_96000040dfb6row1_col11,#T_78ead602_ca3d_11ec_bdbb_96000040dfb6row2_col8,#T_78ead602_ca3d_11ec_bdbb_96000040dfb6row2_col9,#T_78ead602_ca3d_11ec_bdbb_96000040dfb6row2_col10,#T_78ead602_ca3d_11ec_bdbb_96000040dfb6row4_col6,#T_78ead602_ca3d_11ec_bdbb_96000040dfb6row5_col4,#T_78ead602_ca3d_11ec_bdbb_96000040dfb6row6_col5,#T_78ead602_ca3d_11ec_bdbb_96000040dfb6row8_col2,#T_78ead602_ca3d_11ec_bdbb_96000040dfb6row10_col1{\n",
       "            background-color:  #ffff66;\n",
       "            color:  #000000;\n",
       "        }#T_78ead602_ca3d_11ec_bdbb_96000040dfb6row0_col4{\n",
       "            background-color:  #4aa466;\n",
       "            color:  #000000;\n",
       "        }#T_78ead602_ca3d_11ec_bdbb_96000040dfb6row0_col6{\n",
       "            background-color:  #bede66;\n",
       "            color:  #000000;\n",
       "        }#T_78ead602_ca3d_11ec_bdbb_96000040dfb6row0_col8,#T_78ead602_ca3d_11ec_bdbb_96000040dfb6row2_col6{\n",
       "            background-color:  #d9ec66;\n",
       "            color:  #000000;\n",
       "        }#T_78ead602_ca3d_11ec_bdbb_96000040dfb6row0_col9{\n",
       "            background-color:  #badc66;\n",
       "            color:  #000000;\n",
       "        }#T_78ead602_ca3d_11ec_bdbb_96000040dfb6row0_col10{\n",
       "            background-color:  #fafc66;\n",
       "            color:  #000000;\n",
       "        }#T_78ead602_ca3d_11ec_bdbb_96000040dfb6row0_col11,#T_78ead602_ca3d_11ec_bdbb_96000040dfb6row1_col9{\n",
       "            background-color:  #c7e366;\n",
       "            color:  #000000;\n",
       "        }#T_78ead602_ca3d_11ec_bdbb_96000040dfb6row1_col1{\n",
       "            background-color:  #48a366;\n",
       "            color:  #000000;\n",
       "        }#T_78ead602_ca3d_11ec_bdbb_96000040dfb6row1_col2{\n",
       "            background-color:  #acd666;\n",
       "            color:  #000000;\n",
       "        }#T_78ead602_ca3d_11ec_bdbb_96000040dfb6row1_col3{\n",
       "            background-color:  #e4f266;\n",
       "            color:  #000000;\n",
       "        }#T_78ead602_ca3d_11ec_bdbb_96000040dfb6row1_col4,#T_78ead602_ca3d_11ec_bdbb_96000040dfb6row7_col2{\n",
       "            background-color:  #d8ec66;\n",
       "            color:  #000000;\n",
       "        }#T_78ead602_ca3d_11ec_bdbb_96000040dfb6row1_col5{\n",
       "            background-color:  #a5d266;\n",
       "            color:  #000000;\n",
       "        }#T_78ead602_ca3d_11ec_bdbb_96000040dfb6row1_col6{\n",
       "            background-color:  #e5f266;\n",
       "            color:  #000000;\n",
       "        }#T_78ead602_ca3d_11ec_bdbb_96000040dfb6row1_col7,#T_78ead602_ca3d_11ec_bdbb_96000040dfb6row3_col8{\n",
       "            background-color:  #cbe566;\n",
       "            color:  #000000;\n",
       "        }#T_78ead602_ca3d_11ec_bdbb_96000040dfb6row1_col8,#T_78ead602_ca3d_11ec_bdbb_96000040dfb6row5_col2{\n",
       "            background-color:  #b1d866;\n",
       "            color:  #000000;\n",
       "        }#T_78ead602_ca3d_11ec_bdbb_96000040dfb6row1_col10,#T_78ead602_ca3d_11ec_bdbb_96000040dfb6row5_col1{\n",
       "            background-color:  #dbed66;\n",
       "            color:  #000000;\n",
       "        }#T_78ead602_ca3d_11ec_bdbb_96000040dfb6row1_col13,#T_78ead602_ca3d_11ec_bdbb_96000040dfb6row2_col13,#T_78ead602_ca3d_11ec_bdbb_96000040dfb6row3_col13,#T_78ead602_ca3d_11ec_bdbb_96000040dfb6row4_col13,#T_78ead602_ca3d_11ec_bdbb_96000040dfb6row5_col13,#T_78ead602_ca3d_11ec_bdbb_96000040dfb6row6_col13,#T_78ead602_ca3d_11ec_bdbb_96000040dfb6row7_col13,#T_78ead602_ca3d_11ec_bdbb_96000040dfb6row8_col13,#T_78ead602_ca3d_11ec_bdbb_96000040dfb6row9_col13,#T_78ead602_ca3d_11ec_bdbb_96000040dfb6row10_col13,#T_78ead602_ca3d_11ec_bdbb_96000040dfb6row11_col13,#T_78ead602_ca3d_11ec_bdbb_96000040dfb6row12_col13,#T_78ead602_ca3d_11ec_bdbb_96000040dfb6row13_col13{\n",
       "            background-color:  #008066;\n",
       "            color:  #f1f1f1;\n",
       "            background-color:  white;\n",
       "        }#T_78ead602_ca3d_11ec_bdbb_96000040dfb6row2_col1{\n",
       "            background-color:  #abd566;\n",
       "            color:  #000000;\n",
       "        }#T_78ead602_ca3d_11ec_bdbb_96000040dfb6row2_col2{\n",
       "            background-color:  #8cc666;\n",
       "            color:  #000000;\n",
       "        }#T_78ead602_ca3d_11ec_bdbb_96000040dfb6row2_col3{\n",
       "            background-color:  #f7fb66;\n",
       "            color:  #000000;\n",
       "        }#T_78ead602_ca3d_11ec_bdbb_96000040dfb6row2_col4{\n",
       "            background-color:  #74ba66;\n",
       "            color:  #000000;\n",
       "        }#T_78ead602_ca3d_11ec_bdbb_96000040dfb6row2_col5{\n",
       "            background-color:  #c4e266;\n",
       "            color:  #000000;\n",
       "        }#T_78ead602_ca3d_11ec_bdbb_96000040dfb6row2_col7,#T_78ead602_ca3d_11ec_bdbb_96000040dfb6row3_col4{\n",
       "            background-color:  #a4d266;\n",
       "            color:  #000000;\n",
       "        }#T_78ead602_ca3d_11ec_bdbb_96000040dfb6row2_col12,#T_78ead602_ca3d_11ec_bdbb_96000040dfb6row3_col11,#T_78ead602_ca3d_11ec_bdbb_96000040dfb6row3_col12,#T_78ead602_ca3d_11ec_bdbb_96000040dfb6row4_col10,#T_78ead602_ca3d_11ec_bdbb_96000040dfb6row4_col11,#T_78ead602_ca3d_11ec_bdbb_96000040dfb6row4_col12,#T_78ead602_ca3d_11ec_bdbb_96000040dfb6row5_col9,#T_78ead602_ca3d_11ec_bdbb_96000040dfb6row5_col10,#T_78ead602_ca3d_11ec_bdbb_96000040dfb6row5_col11,#T_78ead602_ca3d_11ec_bdbb_96000040dfb6row5_col12,#T_78ead602_ca3d_11ec_bdbb_96000040dfb6row6_col8,#T_78ead602_ca3d_11ec_bdbb_96000040dfb6row6_col9,#T_78ead602_ca3d_11ec_bdbb_96000040dfb6row6_col10,#T_78ead602_ca3d_11ec_bdbb_96000040dfb6row6_col11,#T_78ead602_ca3d_11ec_bdbb_96000040dfb6row6_col12,#T_78ead602_ca3d_11ec_bdbb_96000040dfb6row7_col7,#T_78ead602_ca3d_11ec_bdbb_96000040dfb6row7_col8,#T_78ead602_ca3d_11ec_bdbb_96000040dfb6row7_col9,#T_78ead602_ca3d_11ec_bdbb_96000040dfb6row7_col10,#T_78ead602_ca3d_11ec_bdbb_96000040dfb6row7_col11,#T_78ead602_ca3d_11ec_bdbb_96000040dfb6row7_col12,#T_78ead602_ca3d_11ec_bdbb_96000040dfb6row8_col6,#T_78ead602_ca3d_11ec_bdbb_96000040dfb6row8_col7,#T_78ead602_ca3d_11ec_bdbb_96000040dfb6row8_col8,#T_78ead602_ca3d_11ec_bdbb_96000040dfb6row8_col9,#T_78ead602_ca3d_11ec_bdbb_96000040dfb6row8_col10,#T_78ead602_ca3d_11ec_bdbb_96000040dfb6row8_col11,#T_78ead602_ca3d_11ec_bdbb_96000040dfb6row8_col12,#T_78ead602_ca3d_11ec_bdbb_96000040dfb6row9_col5,#T_78ead602_ca3d_11ec_bdbb_96000040dfb6row9_col6,#T_78ead602_ca3d_11ec_bdbb_96000040dfb6row9_col7,#T_78ead602_ca3d_11ec_bdbb_96000040dfb6row9_col8,#T_78ead602_ca3d_11ec_bdbb_96000040dfb6row9_col9,#T_78ead602_ca3d_11ec_bdbb_96000040dfb6row9_col10,#T_78ead602_ca3d_11ec_bdbb_96000040dfb6row9_col11,#T_78ead602_ca3d_11ec_bdbb_96000040dfb6row9_col12,#T_78ead602_ca3d_11ec_bdbb_96000040dfb6row10_col4,#T_78ead602_ca3d_11ec_bdbb_96000040dfb6row10_col5,#T_78ead602_ca3d_11ec_bdbb_96000040dfb6row10_col6,#T_78ead602_ca3d_11ec_bdbb_96000040dfb6row10_col7,#T_78ead602_ca3d_11ec_bdbb_96000040dfb6row10_col8,#T_78ead602_ca3d_11ec_bdbb_96000040dfb6row10_col9,#T_78ead602_ca3d_11ec_bdbb_96000040dfb6row10_col10,#T_78ead602_ca3d_11ec_bdbb_96000040dfb6row10_col11,#T_78ead602_ca3d_11ec_bdbb_96000040dfb6row10_col12,#T_78ead602_ca3d_11ec_bdbb_96000040dfb6row11_col3,#T_78ead602_ca3d_11ec_bdbb_96000040dfb6row11_col4,#T_78ead602_ca3d_11ec_bdbb_96000040dfb6row11_col5,#T_78ead602_ca3d_11ec_bdbb_96000040dfb6row11_col6,#T_78ead602_ca3d_11ec_bdbb_96000040dfb6row11_col7,#T_78ead602_ca3d_11ec_bdbb_96000040dfb6row11_col8,#T_78ead602_ca3d_11ec_bdbb_96000040dfb6row11_col9,#T_78ead602_ca3d_11ec_bdbb_96000040dfb6row11_col10,#T_78ead602_ca3d_11ec_bdbb_96000040dfb6row11_col11,#T_78ead602_ca3d_11ec_bdbb_96000040dfb6row11_col12,#T_78ead602_ca3d_11ec_bdbb_96000040dfb6row12_col2,#T_78ead602_ca3d_11ec_bdbb_96000040dfb6row12_col3,#T_78ead602_ca3d_11ec_bdbb_96000040dfb6row12_col4,#T_78ead602_ca3d_11ec_bdbb_96000040dfb6row12_col5,#T_78ead602_ca3d_11ec_bdbb_96000040dfb6row12_col6,#T_78ead602_ca3d_11ec_bdbb_96000040dfb6row12_col7,#T_78ead602_ca3d_11ec_bdbb_96000040dfb6row12_col8,#T_78ead602_ca3d_11ec_bdbb_96000040dfb6row12_col9,#T_78ead602_ca3d_11ec_bdbb_96000040dfb6row12_col10,#T_78ead602_ca3d_11ec_bdbb_96000040dfb6row12_col11,#T_78ead602_ca3d_11ec_bdbb_96000040dfb6row12_col12,#T_78ead602_ca3d_11ec_bdbb_96000040dfb6row13_col1,#T_78ead602_ca3d_11ec_bdbb_96000040dfb6row13_col2,#T_78ead602_ca3d_11ec_bdbb_96000040dfb6row13_col3,#T_78ead602_ca3d_11ec_bdbb_96000040dfb6row13_col4,#T_78ead602_ca3d_11ec_bdbb_96000040dfb6row13_col5,#T_78ead602_ca3d_11ec_bdbb_96000040dfb6row13_col6,#T_78ead602_ca3d_11ec_bdbb_96000040dfb6row13_col7,#T_78ead602_ca3d_11ec_bdbb_96000040dfb6row13_col8,#T_78ead602_ca3d_11ec_bdbb_96000040dfb6row13_col9,#T_78ead602_ca3d_11ec_bdbb_96000040dfb6row13_col10,#T_78ead602_ca3d_11ec_bdbb_96000040dfb6row13_col11,#T_78ead602_ca3d_11ec_bdbb_96000040dfb6row13_col12{\n",
       "            background-color:  #000000;\n",
       "            color:  #f1f1f1;\n",
       "            background-color:  white;\n",
       "        }#T_78ead602_ca3d_11ec_bdbb_96000040dfb6row3_col1{\n",
       "            background-color:  #b4da66;\n",
       "            color:  #000000;\n",
       "        }#T_78ead602_ca3d_11ec_bdbb_96000040dfb6row3_col2{\n",
       "            background-color:  #b3d966;\n",
       "            color:  #000000;\n",
       "        }#T_78ead602_ca3d_11ec_bdbb_96000040dfb6row3_col3{\n",
       "            background-color:  #c8e366;\n",
       "            color:  #000000;\n",
       "        }#T_78ead602_ca3d_11ec_bdbb_96000040dfb6row3_col5,#T_78ead602_ca3d_11ec_bdbb_96000040dfb6row6_col3{\n",
       "            background-color:  #edf666;\n",
       "            color:  #000000;\n",
       "        }#T_78ead602_ca3d_11ec_bdbb_96000040dfb6row3_col6{\n",
       "            background-color:  #d2e866;\n",
       "            color:  #000000;\n",
       "        }#T_78ead602_ca3d_11ec_bdbb_96000040dfb6row3_col7{\n",
       "            background-color:  #6bb566;\n",
       "            color:  #000000;\n",
       "        }#T_78ead602_ca3d_11ec_bdbb_96000040dfb6row3_col9{\n",
       "            background-color:  #e9f466;\n",
       "            color:  #000000;\n",
       "        }#T_78ead602_ca3d_11ec_bdbb_96000040dfb6row4_col1{\n",
       "            background-color:  #dcee66;\n",
       "            color:  #000000;\n",
       "        }#T_78ead602_ca3d_11ec_bdbb_96000040dfb6row4_col2{\n",
       "            background-color:  #8ac466;\n",
       "            color:  #000000;\n",
       "        }#T_78ead602_ca3d_11ec_bdbb_96000040dfb6row4_col3{\n",
       "            background-color:  #e2f066;\n",
       "            color:  #000000;\n",
       "        }#T_78ead602_ca3d_11ec_bdbb_96000040dfb6row4_col4{\n",
       "            background-color:  #b7db66;\n",
       "            color:  #000000;\n",
       "        }#T_78ead602_ca3d_11ec_bdbb_96000040dfb6row4_col5,#T_78ead602_ca3d_11ec_bdbb_96000040dfb6row5_col3{\n",
       "            background-color:  #e7f366;\n",
       "            color:  #000000;\n",
       "        }#T_78ead602_ca3d_11ec_bdbb_96000040dfb6row4_col7{\n",
       "            background-color:  #c9e466;\n",
       "            color:  #000000;\n",
       "        }#T_78ead602_ca3d_11ec_bdbb_96000040dfb6row4_col8{\n",
       "            background-color:  #b5da66;\n",
       "            color:  #000000;\n",
       "        }#T_78ead602_ca3d_11ec_bdbb_96000040dfb6row5_col5,#T_78ead602_ca3d_11ec_bdbb_96000040dfb6row5_col7{\n",
       "            background-color:  #9dce66;\n",
       "            color:  #000000;\n",
       "        }#T_78ead602_ca3d_11ec_bdbb_96000040dfb6row5_col6,#T_78ead602_ca3d_11ec_bdbb_96000040dfb6row9_col3{\n",
       "            background-color:  #f8fc66;\n",
       "            color:  #000000;\n",
       "        }#T_78ead602_ca3d_11ec_bdbb_96000040dfb6row6_col1{\n",
       "            background-color:  #a9d466;\n",
       "            color:  #000000;\n",
       "        }#T_78ead602_ca3d_11ec_bdbb_96000040dfb6row6_col2{\n",
       "            background-color:  #cfe766;\n",
       "            color:  #000000;\n",
       "        }#T_78ead602_ca3d_11ec_bdbb_96000040dfb6row6_col4{\n",
       "            background-color:  #77bb66;\n",
       "            color:  #000000;\n",
       "        }#T_78ead602_ca3d_11ec_bdbb_96000040dfb6row6_col6{\n",
       "            background-color:  #fdfe66;\n",
       "            color:  #000000;\n",
       "        }#T_78ead602_ca3d_11ec_bdbb_96000040dfb6row7_col1{\n",
       "            background-color:  #81c066;\n",
       "            color:  #000000;\n",
       "        }#T_78ead602_ca3d_11ec_bdbb_96000040dfb6row7_col3{\n",
       "            background-color:  #e6f266;\n",
       "            color:  #000000;\n",
       "        }#T_78ead602_ca3d_11ec_bdbb_96000040dfb6row7_col4{\n",
       "            background-color:  #c6e266;\n",
       "            color:  #000000;\n",
       "        }#T_78ead602_ca3d_11ec_bdbb_96000040dfb6row7_col5{\n",
       "            background-color:  #d5ea66;\n",
       "            color:  #000000;\n",
       "        }#T_78ead602_ca3d_11ec_bdbb_96000040dfb6row8_col1{\n",
       "            background-color:  #a8d366;\n",
       "            color:  #000000;\n",
       "        }#T_78ead602_ca3d_11ec_bdbb_96000040dfb6row8_col3{\n",
       "            background-color:  #c5e266;\n",
       "            color:  #000000;\n",
       "        }#T_78ead602_ca3d_11ec_bdbb_96000040dfb6row8_col4{\n",
       "            background-color:  #add666;\n",
       "            color:  #000000;\n",
       "        }#T_78ead602_ca3d_11ec_bdbb_96000040dfb6row9_col1{\n",
       "            background-color:  #9ece66;\n",
       "            color:  #000000;\n",
       "        }#T_78ead602_ca3d_11ec_bdbb_96000040dfb6row9_col2{\n",
       "            background-color:  #5cae66;\n",
       "            color:  #000000;\n",
       "        }#T_78ead602_ca3d_11ec_bdbb_96000040dfb6row10_col2{\n",
       "            background-color:  #deee66;\n",
       "            color:  #000000;\n",
       "        }#T_78ead602_ca3d_11ec_bdbb_96000040dfb6row11_col1{\n",
       "            background-color:  #a7d366;\n",
       "            color:  #000000;\n",
       "        }</style><table id=\"T_78ead602_ca3d_11ec_bdbb_96000040dfb6\" ><caption>User retention by cohort</caption><thead>    <tr>        <th class=\"index_name level0\" >period_num</th>        <th class=\"col_heading level0 col0\" >0</th>        <th class=\"col_heading level0 col1\" >1</th>        <th class=\"col_heading level0 col2\" >2</th>        <th class=\"col_heading level0 col3\" >3</th>        <th class=\"col_heading level0 col4\" >4</th>        <th class=\"col_heading level0 col5\" >5</th>        <th class=\"col_heading level0 col6\" >6</th>        <th class=\"col_heading level0 col7\" >7</th>        <th class=\"col_heading level0 col8\" >8</th>        <th class=\"col_heading level0 col9\" >9</th>        <th class=\"col_heading level0 col10\" >10</th>        <th class=\"col_heading level0 col11\" >11</th>        <th class=\"col_heading level0 col12\" >12</th>        <th class=\"col_heading level0 col13\" >13</th>    </tr>    <tr>        <th class=\"index_name level0\" >cohort</th>        <th class=\"blank\" ></th>        <th class=\"blank\" ></th>        <th class=\"blank\" ></th>        <th class=\"blank\" ></th>        <th class=\"blank\" ></th>        <th class=\"blank\" ></th>        <th class=\"blank\" ></th>        <th class=\"blank\" ></th>        <th class=\"blank\" ></th>        <th class=\"blank\" ></th>        <th class=\"blank\" ></th>        <th class=\"blank\" ></th>        <th class=\"blank\" ></th>        <th class=\"blank\" ></th>    </tr></thead><tbody>\n",
       "                <tr>\n",
       "                        <th id=\"T_78ead602_ca3d_11ec_bdbb_96000040dfb6level0_row0\" class=\"row_heading level0 row0\" >2020-09-10</th>\n",
       "                        <td id=\"T_78ead602_ca3d_11ec_bdbb_96000040dfb6row0_col0\" class=\"data row0 col0\" >100.00%</td>\n",
       "                        <td id=\"T_78ead602_ca3d_11ec_bdbb_96000040dfb6row0_col1\" class=\"data row0 col1\" >2.05%</td>\n",
       "                        <td id=\"T_78ead602_ca3d_11ec_bdbb_96000040dfb6row0_col2\" class=\"data row0 col2\" >4.29%</td>\n",
       "                        <td id=\"T_78ead602_ca3d_11ec_bdbb_96000040dfb6row0_col3\" class=\"data row0 col3\" >4.79%</td>\n",
       "                        <td id=\"T_78ead602_ca3d_11ec_bdbb_96000040dfb6row0_col4\" class=\"data row0 col4\" >4.23%</td>\n",
       "                        <td id=\"T_78ead602_ca3d_11ec_bdbb_96000040dfb6row0_col5\" class=\"data row0 col5\" >6.77%</td>\n",
       "                        <td id=\"T_78ead602_ca3d_11ec_bdbb_96000040dfb6row0_col6\" class=\"data row0 col6\" >6.28%</td>\n",
       "                        <td id=\"T_78ead602_ca3d_11ec_bdbb_96000040dfb6row0_col7\" class=\"data row0 col7\" >7.09%</td>\n",
       "                        <td id=\"T_78ead602_ca3d_11ec_bdbb_96000040dfb6row0_col8\" class=\"data row0 col8\" >4.85%</td>\n",
       "                        <td id=\"T_78ead602_ca3d_11ec_bdbb_96000040dfb6row0_col9\" class=\"data row0 col9\" >4.54%</td>\n",
       "                        <td id=\"T_78ead602_ca3d_11ec_bdbb_96000040dfb6row0_col10\" class=\"data row0 col10\" >5.66%</td>\n",
       "                        <td id=\"T_78ead602_ca3d_11ec_bdbb_96000040dfb6row0_col11\" class=\"data row0 col11\" >4.72%</td>\n",
       "                        <td id=\"T_78ead602_ca3d_11ec_bdbb_96000040dfb6row0_col12\" class=\"data row0 col12\" >5.22%</td>\n",
       "                        <td id=\"T_78ead602_ca3d_11ec_bdbb_96000040dfb6row0_col13\" class=\"data row0 col13\" >3.60%</td>\n",
       "            </tr>\n",
       "            <tr>\n",
       "                        <th id=\"T_78ead602_ca3d_11ec_bdbb_96000040dfb6level0_row1\" class=\"row_heading level0 row1\" >2020-09-11</th>\n",
       "                        <td id=\"T_78ead602_ca3d_11ec_bdbb_96000040dfb6row1_col0\" class=\"data row1 col0\" >100.00%</td>\n",
       "                        <td id=\"T_78ead602_ca3d_11ec_bdbb_96000040dfb6row1_col1\" class=\"data row1 col1\" >1.30%</td>\n",
       "                        <td id=\"T_78ead602_ca3d_11ec_bdbb_96000040dfb6row1_col2\" class=\"data row1 col2\" >4.03%</td>\n",
       "                        <td id=\"T_78ead602_ca3d_11ec_bdbb_96000040dfb6row1_col3\" class=\"data row1 col3\" >4.53%</td>\n",
       "                        <td id=\"T_78ead602_ca3d_11ec_bdbb_96000040dfb6row1_col4\" class=\"data row1 col4\" >5.65%</td>\n",
       "                        <td id=\"T_78ead602_ca3d_11ec_bdbb_96000040dfb6row1_col5\" class=\"data row1 col5\" >5.71%</td>\n",
       "                        <td id=\"T_78ead602_ca3d_11ec_bdbb_96000040dfb6row1_col6\" class=\"data row1 col6\" >6.70%</td>\n",
       "                        <td id=\"T_78ead602_ca3d_11ec_bdbb_96000040dfb6row1_col7\" class=\"data row1 col7\" >6.33%</td>\n",
       "                        <td id=\"T_78ead602_ca3d_11ec_bdbb_96000040dfb6row1_col8\" class=\"data row1 col8\" >4.40%</td>\n",
       "                        <td id=\"T_78ead602_ca3d_11ec_bdbb_96000040dfb6row1_col9\" class=\"data row1 col9\" >4.65%</td>\n",
       "                        <td id=\"T_78ead602_ca3d_11ec_bdbb_96000040dfb6row1_col10\" class=\"data row1 col10\" >5.40%</td>\n",
       "                        <td id=\"T_78ead602_ca3d_11ec_bdbb_96000040dfb6row1_col11\" class=\"data row1 col11\" >5.33%</td>\n",
       "                        <td id=\"T_78ead602_ca3d_11ec_bdbb_96000040dfb6row1_col12\" class=\"data row1 col12\" >3.29%</td>\n",
       "                        <td id=\"T_78ead602_ca3d_11ec_bdbb_96000040dfb6row1_col13\" class=\"data row1 col13\" ></td>\n",
       "            </tr>\n",
       "            <tr>\n",
       "                        <th id=\"T_78ead602_ca3d_11ec_bdbb_96000040dfb6level0_row2\" class=\"row_heading level0 row2\" >2020-09-12</th>\n",
       "                        <td id=\"T_78ead602_ca3d_11ec_bdbb_96000040dfb6row2_col0\" class=\"data row2 col0\" >100.00%</td>\n",
       "                        <td id=\"T_78ead602_ca3d_11ec_bdbb_96000040dfb6row2_col1\" class=\"data row2 col1\" >1.92%</td>\n",
       "                        <td id=\"T_78ead602_ca3d_11ec_bdbb_96000040dfb6row2_col2\" class=\"data row2 col2\" >3.84%</td>\n",
       "                        <td id=\"T_78ead602_ca3d_11ec_bdbb_96000040dfb6row2_col3\" class=\"data row2 col3\" >4.71%</td>\n",
       "                        <td id=\"T_78ead602_ca3d_11ec_bdbb_96000040dfb6row2_col4\" class=\"data row2 col4\" >4.65%</td>\n",
       "                        <td id=\"T_78ead602_ca3d_11ec_bdbb_96000040dfb6row2_col5\" class=\"data row2 col5\" >6.07%</td>\n",
       "                        <td id=\"T_78ead602_ca3d_11ec_bdbb_96000040dfb6row2_col6\" class=\"data row2 col6\" >6.57%</td>\n",
       "                        <td id=\"T_78ead602_ca3d_11ec_bdbb_96000040dfb6row2_col7\" class=\"data row2 col7\" >5.76%</td>\n",
       "                        <td id=\"T_78ead602_ca3d_11ec_bdbb_96000040dfb6row2_col8\" class=\"data row2 col8\" >5.27%</td>\n",
       "                        <td id=\"T_78ead602_ca3d_11ec_bdbb_96000040dfb6row2_col9\" class=\"data row2 col9\" >5.14%</td>\n",
       "                        <td id=\"T_78ead602_ca3d_11ec_bdbb_96000040dfb6row2_col10\" class=\"data row2 col10\" >5.70%</td>\n",
       "                        <td id=\"T_78ead602_ca3d_11ec_bdbb_96000040dfb6row2_col11\" class=\"data row2 col11\" >2.54%</td>\n",
       "                        <td id=\"T_78ead602_ca3d_11ec_bdbb_96000040dfb6row2_col12\" class=\"data row2 col12\" ></td>\n",
       "                        <td id=\"T_78ead602_ca3d_11ec_bdbb_96000040dfb6row2_col13\" class=\"data row2 col13\" ></td>\n",
       "            </tr>\n",
       "            <tr>\n",
       "                        <th id=\"T_78ead602_ca3d_11ec_bdbb_96000040dfb6level0_row3\" class=\"row_heading level0 row3\" >2020-09-13</th>\n",
       "                        <td id=\"T_78ead602_ca3d_11ec_bdbb_96000040dfb6row3_col0\" class=\"data row3 col0\" >100.00%</td>\n",
       "                        <td id=\"T_78ead602_ca3d_11ec_bdbb_96000040dfb6row3_col1\" class=\"data row3 col1\" >1.98%</td>\n",
       "                        <td id=\"T_78ead602_ca3d_11ec_bdbb_96000040dfb6row3_col2\" class=\"data row3 col2\" >4.08%</td>\n",
       "                        <td id=\"T_78ead602_ca3d_11ec_bdbb_96000040dfb6row3_col3\" class=\"data row3 col3\" >4.26%</td>\n",
       "                        <td id=\"T_78ead602_ca3d_11ec_bdbb_96000040dfb6row3_col4\" class=\"data row3 col4\" >5.13%</td>\n",
       "                        <td id=\"T_78ead602_ca3d_11ec_bdbb_96000040dfb6row3_col5\" class=\"data row3 col5\" >6.55%</td>\n",
       "                        <td id=\"T_78ead602_ca3d_11ec_bdbb_96000040dfb6row3_col6\" class=\"data row3 col6\" >6.49%</td>\n",
       "                        <td id=\"T_78ead602_ca3d_11ec_bdbb_96000040dfb6row3_col7\" class=\"data row3 col7\" >4.94%</td>\n",
       "                        <td id=\"T_78ead602_ca3d_11ec_bdbb_96000040dfb6row3_col8\" class=\"data row3 col8\" >4.70%</td>\n",
       "                        <td id=\"T_78ead602_ca3d_11ec_bdbb_96000040dfb6row3_col9\" class=\"data row3 col9\" >4.94%</td>\n",
       "                        <td id=\"T_78ead602_ca3d_11ec_bdbb_96000040dfb6row3_col10\" class=\"data row3 col10\" >3.58%</td>\n",
       "                        <td id=\"T_78ead602_ca3d_11ec_bdbb_96000040dfb6row3_col11\" class=\"data row3 col11\" ></td>\n",
       "                        <td id=\"T_78ead602_ca3d_11ec_bdbb_96000040dfb6row3_col12\" class=\"data row3 col12\" ></td>\n",
       "                        <td id=\"T_78ead602_ca3d_11ec_bdbb_96000040dfb6row3_col13\" class=\"data row3 col13\" ></td>\n",
       "            </tr>\n",
       "            <tr>\n",
       "                        <th id=\"T_78ead602_ca3d_11ec_bdbb_96000040dfb6level0_row4\" class=\"row_heading level0 row4\" >2020-09-14</th>\n",
       "                        <td id=\"T_78ead602_ca3d_11ec_bdbb_96000040dfb6row4_col0\" class=\"data row4 col0\" >100.00%</td>\n",
       "                        <td id=\"T_78ead602_ca3d_11ec_bdbb_96000040dfb6row4_col1\" class=\"data row4 col1\" >2.22%</td>\n",
       "                        <td id=\"T_78ead602_ca3d_11ec_bdbb_96000040dfb6row4_col2\" class=\"data row4 col2\" >3.83%</td>\n",
       "                        <td id=\"T_78ead602_ca3d_11ec_bdbb_96000040dfb6row4_col3\" class=\"data row4 col3\" >4.51%</td>\n",
       "                        <td id=\"T_78ead602_ca3d_11ec_bdbb_96000040dfb6row4_col4\" class=\"data row4 col4\" >5.31%</td>\n",
       "                        <td id=\"T_78ead602_ca3d_11ec_bdbb_96000040dfb6row4_col5\" class=\"data row4 col5\" >6.49%</td>\n",
       "                        <td id=\"T_78ead602_ca3d_11ec_bdbb_96000040dfb6row4_col6\" class=\"data row4 col6\" >6.98%</td>\n",
       "                        <td id=\"T_78ead602_ca3d_11ec_bdbb_96000040dfb6row4_col7\" class=\"data row4 col7\" >6.30%</td>\n",
       "                        <td id=\"T_78ead602_ca3d_11ec_bdbb_96000040dfb6row4_col8\" class=\"data row4 col8\" >4.45%</td>\n",
       "                        <td id=\"T_78ead602_ca3d_11ec_bdbb_96000040dfb6row4_col9\" class=\"data row4 col9\" >2.90%</td>\n",
       "                        <td id=\"T_78ead602_ca3d_11ec_bdbb_96000040dfb6row4_col10\" class=\"data row4 col10\" ></td>\n",
       "                        <td id=\"T_78ead602_ca3d_11ec_bdbb_96000040dfb6row4_col11\" class=\"data row4 col11\" ></td>\n",
       "                        <td id=\"T_78ead602_ca3d_11ec_bdbb_96000040dfb6row4_col12\" class=\"data row4 col12\" ></td>\n",
       "                        <td id=\"T_78ead602_ca3d_11ec_bdbb_96000040dfb6row4_col13\" class=\"data row4 col13\" ></td>\n",
       "            </tr>\n",
       "            <tr>\n",
       "                        <th id=\"T_78ead602_ca3d_11ec_bdbb_96000040dfb6level0_row5\" class=\"row_heading level0 row5\" >2020-09-15</th>\n",
       "                        <td id=\"T_78ead602_ca3d_11ec_bdbb_96000040dfb6row5_col0\" class=\"data row5 col0\" >100.00%</td>\n",
       "                        <td id=\"T_78ead602_ca3d_11ec_bdbb_96000040dfb6row5_col1\" class=\"data row5 col1\" >2.22%</td>\n",
       "                        <td id=\"T_78ead602_ca3d_11ec_bdbb_96000040dfb6row5_col2\" class=\"data row5 col2\" >4.07%</td>\n",
       "                        <td id=\"T_78ead602_ca3d_11ec_bdbb_96000040dfb6row5_col3\" class=\"data row5 col3\" >4.56%</td>\n",
       "                        <td id=\"T_78ead602_ca3d_11ec_bdbb_96000040dfb6row5_col4\" class=\"data row5 col4\" >6.04%</td>\n",
       "                        <td id=\"T_78ead602_ca3d_11ec_bdbb_96000040dfb6row5_col5\" class=\"data row5 col5\" >5.61%</td>\n",
       "                        <td id=\"T_78ead602_ca3d_11ec_bdbb_96000040dfb6row5_col6\" class=\"data row5 col6\" >6.90%</td>\n",
       "                        <td id=\"T_78ead602_ca3d_11ec_bdbb_96000040dfb6row5_col7\" class=\"data row5 col7\" >5.67%</td>\n",
       "                        <td id=\"T_78ead602_ca3d_11ec_bdbb_96000040dfb6row5_col8\" class=\"data row5 col8\" >2.46%</td>\n",
       "                        <td id=\"T_78ead602_ca3d_11ec_bdbb_96000040dfb6row5_col9\" class=\"data row5 col9\" ></td>\n",
       "                        <td id=\"T_78ead602_ca3d_11ec_bdbb_96000040dfb6row5_col10\" class=\"data row5 col10\" ></td>\n",
       "                        <td id=\"T_78ead602_ca3d_11ec_bdbb_96000040dfb6row5_col11\" class=\"data row5 col11\" ></td>\n",
       "                        <td id=\"T_78ead602_ca3d_11ec_bdbb_96000040dfb6row5_col12\" class=\"data row5 col12\" ></td>\n",
       "                        <td id=\"T_78ead602_ca3d_11ec_bdbb_96000040dfb6row5_col13\" class=\"data row5 col13\" ></td>\n",
       "            </tr>\n",
       "            <tr>\n",
       "                        <th id=\"T_78ead602_ca3d_11ec_bdbb_96000040dfb6level0_row6\" class=\"row_heading level0 row6\" >2020-09-16</th>\n",
       "                        <td id=\"T_78ead602_ca3d_11ec_bdbb_96000040dfb6row6_col0\" class=\"data row6 col0\" >100.00%</td>\n",
       "                        <td id=\"T_78ead602_ca3d_11ec_bdbb_96000040dfb6row6_col1\" class=\"data row6 col1\" >1.91%</td>\n",
       "                        <td id=\"T_78ead602_ca3d_11ec_bdbb_96000040dfb6row6_col2\" class=\"data row6 col2\" >4.25%</td>\n",
       "                        <td id=\"T_78ead602_ca3d_11ec_bdbb_96000040dfb6row6_col3\" class=\"data row6 col3\" >4.62%</td>\n",
       "                        <td id=\"T_78ead602_ca3d_11ec_bdbb_96000040dfb6row6_col4\" class=\"data row6 col4\" >4.68%</td>\n",
       "                        <td id=\"T_78ead602_ca3d_11ec_bdbb_96000040dfb6row6_col5\" class=\"data row6 col5\" >6.77%</td>\n",
       "                        <td id=\"T_78ead602_ca3d_11ec_bdbb_96000040dfb6row6_col6\" class=\"data row6 col6\" >6.95%</td>\n",
       "                        <td id=\"T_78ead602_ca3d_11ec_bdbb_96000040dfb6row6_col7\" class=\"data row6 col7\" >3.38%</td>\n",
       "                        <td id=\"T_78ead602_ca3d_11ec_bdbb_96000040dfb6row6_col8\" class=\"data row6 col8\" ></td>\n",
       "                        <td id=\"T_78ead602_ca3d_11ec_bdbb_96000040dfb6row6_col9\" class=\"data row6 col9\" ></td>\n",
       "                        <td id=\"T_78ead602_ca3d_11ec_bdbb_96000040dfb6row6_col10\" class=\"data row6 col10\" ></td>\n",
       "                        <td id=\"T_78ead602_ca3d_11ec_bdbb_96000040dfb6row6_col11\" class=\"data row6 col11\" ></td>\n",
       "                        <td id=\"T_78ead602_ca3d_11ec_bdbb_96000040dfb6row6_col12\" class=\"data row6 col12\" ></td>\n",
       "                        <td id=\"T_78ead602_ca3d_11ec_bdbb_96000040dfb6row6_col13\" class=\"data row6 col13\" ></td>\n",
       "            </tr>\n",
       "            <tr>\n",
       "                        <th id=\"T_78ead602_ca3d_11ec_bdbb_96000040dfb6level0_row7\" class=\"row_heading level0 row7\" >2020-09-17</th>\n",
       "                        <td id=\"T_78ead602_ca3d_11ec_bdbb_96000040dfb6row7_col0\" class=\"data row7 col0\" >100.00%</td>\n",
       "                        <td id=\"T_78ead602_ca3d_11ec_bdbb_96000040dfb6row7_col1\" class=\"data row7 col1\" >1.66%</td>\n",
       "                        <td id=\"T_78ead602_ca3d_11ec_bdbb_96000040dfb6row7_col2\" class=\"data row7 col2\" >4.30%</td>\n",
       "                        <td id=\"T_78ead602_ca3d_11ec_bdbb_96000040dfb6row7_col3\" class=\"data row7 col3\" >4.55%</td>\n",
       "                        <td id=\"T_78ead602_ca3d_11ec_bdbb_96000040dfb6row7_col4\" class=\"data row7 col4\" >5.47%</td>\n",
       "                        <td id=\"T_78ead602_ca3d_11ec_bdbb_96000040dfb6row7_col5\" class=\"data row7 col5\" >6.27%</td>\n",
       "                        <td id=\"T_78ead602_ca3d_11ec_bdbb_96000040dfb6row7_col6\" class=\"data row7 col6\" >4.24%</td>\n",
       "                        <td id=\"T_78ead602_ca3d_11ec_bdbb_96000040dfb6row7_col7\" class=\"data row7 col7\" ></td>\n",
       "                        <td id=\"T_78ead602_ca3d_11ec_bdbb_96000040dfb6row7_col8\" class=\"data row7 col8\" ></td>\n",
       "                        <td id=\"T_78ead602_ca3d_11ec_bdbb_96000040dfb6row7_col9\" class=\"data row7 col9\" ></td>\n",
       "                        <td id=\"T_78ead602_ca3d_11ec_bdbb_96000040dfb6row7_col10\" class=\"data row7 col10\" ></td>\n",
       "                        <td id=\"T_78ead602_ca3d_11ec_bdbb_96000040dfb6row7_col11\" class=\"data row7 col11\" ></td>\n",
       "                        <td id=\"T_78ead602_ca3d_11ec_bdbb_96000040dfb6row7_col12\" class=\"data row7 col12\" ></td>\n",
       "                        <td id=\"T_78ead602_ca3d_11ec_bdbb_96000040dfb6row7_col13\" class=\"data row7 col13\" ></td>\n",
       "            </tr>\n",
       "            <tr>\n",
       "                        <th id=\"T_78ead602_ca3d_11ec_bdbb_96000040dfb6level0_row8\" class=\"row_heading level0 row8\" >2020-09-18</th>\n",
       "                        <td id=\"T_78ead602_ca3d_11ec_bdbb_96000040dfb6row8_col0\" class=\"data row8 col0\" >100.00%</td>\n",
       "                        <td id=\"T_78ead602_ca3d_11ec_bdbb_96000040dfb6row8_col1\" class=\"data row8 col1\" >1.90%</td>\n",
       "                        <td id=\"T_78ead602_ca3d_11ec_bdbb_96000040dfb6row8_col2\" class=\"data row8 col2\" >4.54%</td>\n",
       "                        <td id=\"T_78ead602_ca3d_11ec_bdbb_96000040dfb6row8_col3\" class=\"data row8 col3\" >4.23%</td>\n",
       "                        <td id=\"T_78ead602_ca3d_11ec_bdbb_96000040dfb6row8_col4\" class=\"data row8 col4\" >5.21%</td>\n",
       "                        <td id=\"T_78ead602_ca3d_11ec_bdbb_96000040dfb6row8_col5\" class=\"data row8 col5\" >3.74%</td>\n",
       "                        <td id=\"T_78ead602_ca3d_11ec_bdbb_96000040dfb6row8_col6\" class=\"data row8 col6\" ></td>\n",
       "                        <td id=\"T_78ead602_ca3d_11ec_bdbb_96000040dfb6row8_col7\" class=\"data row8 col7\" ></td>\n",
       "                        <td id=\"T_78ead602_ca3d_11ec_bdbb_96000040dfb6row8_col8\" class=\"data row8 col8\" ></td>\n",
       "                        <td id=\"T_78ead602_ca3d_11ec_bdbb_96000040dfb6row8_col9\" class=\"data row8 col9\" ></td>\n",
       "                        <td id=\"T_78ead602_ca3d_11ec_bdbb_96000040dfb6row8_col10\" class=\"data row8 col10\" ></td>\n",
       "                        <td id=\"T_78ead602_ca3d_11ec_bdbb_96000040dfb6row8_col11\" class=\"data row8 col11\" ></td>\n",
       "                        <td id=\"T_78ead602_ca3d_11ec_bdbb_96000040dfb6row8_col12\" class=\"data row8 col12\" ></td>\n",
       "                        <td id=\"T_78ead602_ca3d_11ec_bdbb_96000040dfb6row8_col13\" class=\"data row8 col13\" ></td>\n",
       "            </tr>\n",
       "            <tr>\n",
       "                        <th id=\"T_78ead602_ca3d_11ec_bdbb_96000040dfb6level0_row9\" class=\"row_heading level0 row9\" >2020-09-19</th>\n",
       "                        <td id=\"T_78ead602_ca3d_11ec_bdbb_96000040dfb6row9_col0\" class=\"data row9 col0\" >100.00%</td>\n",
       "                        <td id=\"T_78ead602_ca3d_11ec_bdbb_96000040dfb6row9_col1\" class=\"data row9 col1\" >1.84%</td>\n",
       "                        <td id=\"T_78ead602_ca3d_11ec_bdbb_96000040dfb6row9_col2\" class=\"data row9 col2\" >3.55%</td>\n",
       "                        <td id=\"T_78ead602_ca3d_11ec_bdbb_96000040dfb6row9_col3\" class=\"data row9 col3\" >4.71%</td>\n",
       "                        <td id=\"T_78ead602_ca3d_11ec_bdbb_96000040dfb6row9_col4\" class=\"data row9 col4\" >3.49%</td>\n",
       "                        <td id=\"T_78ead602_ca3d_11ec_bdbb_96000040dfb6row9_col5\" class=\"data row9 col5\" ></td>\n",
       "                        <td id=\"T_78ead602_ca3d_11ec_bdbb_96000040dfb6row9_col6\" class=\"data row9 col6\" ></td>\n",
       "                        <td id=\"T_78ead602_ca3d_11ec_bdbb_96000040dfb6row9_col7\" class=\"data row9 col7\" ></td>\n",
       "                        <td id=\"T_78ead602_ca3d_11ec_bdbb_96000040dfb6row9_col8\" class=\"data row9 col8\" ></td>\n",
       "                        <td id=\"T_78ead602_ca3d_11ec_bdbb_96000040dfb6row9_col9\" class=\"data row9 col9\" ></td>\n",
       "                        <td id=\"T_78ead602_ca3d_11ec_bdbb_96000040dfb6row9_col10\" class=\"data row9 col10\" ></td>\n",
       "                        <td id=\"T_78ead602_ca3d_11ec_bdbb_96000040dfb6row9_col11\" class=\"data row9 col11\" ></td>\n",
       "                        <td id=\"T_78ead602_ca3d_11ec_bdbb_96000040dfb6row9_col12\" class=\"data row9 col12\" ></td>\n",
       "                        <td id=\"T_78ead602_ca3d_11ec_bdbb_96000040dfb6row9_col13\" class=\"data row9 col13\" ></td>\n",
       "            </tr>\n",
       "            <tr>\n",
       "                        <th id=\"T_78ead602_ca3d_11ec_bdbb_96000040dfb6level0_row10\" class=\"row_heading level0 row10\" >2020-09-20</th>\n",
       "                        <td id=\"T_78ead602_ca3d_11ec_bdbb_96000040dfb6row10_col0\" class=\"data row10 col0\" >100.00%</td>\n",
       "                        <td id=\"T_78ead602_ca3d_11ec_bdbb_96000040dfb6row10_col1\" class=\"data row10 col1\" >2.44%</td>\n",
       "                        <td id=\"T_78ead602_ca3d_11ec_bdbb_96000040dfb6row10_col2\" class=\"data row10 col2\" >4.34%</td>\n",
       "                        <td id=\"T_78ead602_ca3d_11ec_bdbb_96000040dfb6row10_col3\" class=\"data row10 col3\" >2.38%</td>\n",
       "                        <td id=\"T_78ead602_ca3d_11ec_bdbb_96000040dfb6row10_col4\" class=\"data row10 col4\" ></td>\n",
       "                        <td id=\"T_78ead602_ca3d_11ec_bdbb_96000040dfb6row10_col5\" class=\"data row10 col5\" ></td>\n",
       "                        <td id=\"T_78ead602_ca3d_11ec_bdbb_96000040dfb6row10_col6\" class=\"data row10 col6\" ></td>\n",
       "                        <td id=\"T_78ead602_ca3d_11ec_bdbb_96000040dfb6row10_col7\" class=\"data row10 col7\" ></td>\n",
       "                        <td id=\"T_78ead602_ca3d_11ec_bdbb_96000040dfb6row10_col8\" class=\"data row10 col8\" ></td>\n",
       "                        <td id=\"T_78ead602_ca3d_11ec_bdbb_96000040dfb6row10_col9\" class=\"data row10 col9\" ></td>\n",
       "                        <td id=\"T_78ead602_ca3d_11ec_bdbb_96000040dfb6row10_col10\" class=\"data row10 col10\" ></td>\n",
       "                        <td id=\"T_78ead602_ca3d_11ec_bdbb_96000040dfb6row10_col11\" class=\"data row10 col11\" ></td>\n",
       "                        <td id=\"T_78ead602_ca3d_11ec_bdbb_96000040dfb6row10_col12\" class=\"data row10 col12\" ></td>\n",
       "                        <td id=\"T_78ead602_ca3d_11ec_bdbb_96000040dfb6row10_col13\" class=\"data row10 col13\" ></td>\n",
       "            </tr>\n",
       "            <tr>\n",
       "                        <th id=\"T_78ead602_ca3d_11ec_bdbb_96000040dfb6level0_row11\" class=\"row_heading level0 row11\" >2020-09-21</th>\n",
       "                        <td id=\"T_78ead602_ca3d_11ec_bdbb_96000040dfb6row11_col0\" class=\"data row11 col0\" >100.00%</td>\n",
       "                        <td id=\"T_78ead602_ca3d_11ec_bdbb_96000040dfb6row11_col1\" class=\"data row11 col1\" >1.89%</td>\n",
       "                        <td id=\"T_78ead602_ca3d_11ec_bdbb_96000040dfb6row11_col2\" class=\"data row11 col2\" >2.99%</td>\n",
       "                        <td id=\"T_78ead602_ca3d_11ec_bdbb_96000040dfb6row11_col3\" class=\"data row11 col3\" ></td>\n",
       "                        <td id=\"T_78ead602_ca3d_11ec_bdbb_96000040dfb6row11_col4\" class=\"data row11 col4\" ></td>\n",
       "                        <td id=\"T_78ead602_ca3d_11ec_bdbb_96000040dfb6row11_col5\" class=\"data row11 col5\" ></td>\n",
       "                        <td id=\"T_78ead602_ca3d_11ec_bdbb_96000040dfb6row11_col6\" class=\"data row11 col6\" ></td>\n",
       "                        <td id=\"T_78ead602_ca3d_11ec_bdbb_96000040dfb6row11_col7\" class=\"data row11 col7\" ></td>\n",
       "                        <td id=\"T_78ead602_ca3d_11ec_bdbb_96000040dfb6row11_col8\" class=\"data row11 col8\" ></td>\n",
       "                        <td id=\"T_78ead602_ca3d_11ec_bdbb_96000040dfb6row11_col9\" class=\"data row11 col9\" ></td>\n",
       "                        <td id=\"T_78ead602_ca3d_11ec_bdbb_96000040dfb6row11_col10\" class=\"data row11 col10\" ></td>\n",
       "                        <td id=\"T_78ead602_ca3d_11ec_bdbb_96000040dfb6row11_col11\" class=\"data row11 col11\" ></td>\n",
       "                        <td id=\"T_78ead602_ca3d_11ec_bdbb_96000040dfb6row11_col12\" class=\"data row11 col12\" ></td>\n",
       "                        <td id=\"T_78ead602_ca3d_11ec_bdbb_96000040dfb6row11_col13\" class=\"data row11 col13\" ></td>\n",
       "            </tr>\n",
       "            <tr>\n",
       "                        <th id=\"T_78ead602_ca3d_11ec_bdbb_96000040dfb6level0_row12\" class=\"row_heading level0 row12\" >2020-09-22</th>\n",
       "                        <td id=\"T_78ead602_ca3d_11ec_bdbb_96000040dfb6row12_col0\" class=\"data row12 col0\" >100.00%</td>\n",
       "                        <td id=\"T_78ead602_ca3d_11ec_bdbb_96000040dfb6row12_col1\" class=\"data row12 col1\" >0.85%</td>\n",
       "                        <td id=\"T_78ead602_ca3d_11ec_bdbb_96000040dfb6row12_col2\" class=\"data row12 col2\" ></td>\n",
       "                        <td id=\"T_78ead602_ca3d_11ec_bdbb_96000040dfb6row12_col3\" class=\"data row12 col3\" ></td>\n",
       "                        <td id=\"T_78ead602_ca3d_11ec_bdbb_96000040dfb6row12_col4\" class=\"data row12 col4\" ></td>\n",
       "                        <td id=\"T_78ead602_ca3d_11ec_bdbb_96000040dfb6row12_col5\" class=\"data row12 col5\" ></td>\n",
       "                        <td id=\"T_78ead602_ca3d_11ec_bdbb_96000040dfb6row12_col6\" class=\"data row12 col6\" ></td>\n",
       "                        <td id=\"T_78ead602_ca3d_11ec_bdbb_96000040dfb6row12_col7\" class=\"data row12 col7\" ></td>\n",
       "                        <td id=\"T_78ead602_ca3d_11ec_bdbb_96000040dfb6row12_col8\" class=\"data row12 col8\" ></td>\n",
       "                        <td id=\"T_78ead602_ca3d_11ec_bdbb_96000040dfb6row12_col9\" class=\"data row12 col9\" ></td>\n",
       "                        <td id=\"T_78ead602_ca3d_11ec_bdbb_96000040dfb6row12_col10\" class=\"data row12 col10\" ></td>\n",
       "                        <td id=\"T_78ead602_ca3d_11ec_bdbb_96000040dfb6row12_col11\" class=\"data row12 col11\" ></td>\n",
       "                        <td id=\"T_78ead602_ca3d_11ec_bdbb_96000040dfb6row12_col12\" class=\"data row12 col12\" ></td>\n",
       "                        <td id=\"T_78ead602_ca3d_11ec_bdbb_96000040dfb6row12_col13\" class=\"data row12 col13\" ></td>\n",
       "            </tr>\n",
       "            <tr>\n",
       "                        <th id=\"T_78ead602_ca3d_11ec_bdbb_96000040dfb6level0_row13\" class=\"row_heading level0 row13\" >2020-09-23</th>\n",
       "                        <td id=\"T_78ead602_ca3d_11ec_bdbb_96000040dfb6row13_col0\" class=\"data row13 col0\" >100.00%</td>\n",
       "                        <td id=\"T_78ead602_ca3d_11ec_bdbb_96000040dfb6row13_col1\" class=\"data row13 col1\" ></td>\n",
       "                        <td id=\"T_78ead602_ca3d_11ec_bdbb_96000040dfb6row13_col2\" class=\"data row13 col2\" ></td>\n",
       "                        <td id=\"T_78ead602_ca3d_11ec_bdbb_96000040dfb6row13_col3\" class=\"data row13 col3\" ></td>\n",
       "                        <td id=\"T_78ead602_ca3d_11ec_bdbb_96000040dfb6row13_col4\" class=\"data row13 col4\" ></td>\n",
       "                        <td id=\"T_78ead602_ca3d_11ec_bdbb_96000040dfb6row13_col5\" class=\"data row13 col5\" ></td>\n",
       "                        <td id=\"T_78ead602_ca3d_11ec_bdbb_96000040dfb6row13_col6\" class=\"data row13 col6\" ></td>\n",
       "                        <td id=\"T_78ead602_ca3d_11ec_bdbb_96000040dfb6row13_col7\" class=\"data row13 col7\" ></td>\n",
       "                        <td id=\"T_78ead602_ca3d_11ec_bdbb_96000040dfb6row13_col8\" class=\"data row13 col8\" ></td>\n",
       "                        <td id=\"T_78ead602_ca3d_11ec_bdbb_96000040dfb6row13_col9\" class=\"data row13 col9\" ></td>\n",
       "                        <td id=\"T_78ead602_ca3d_11ec_bdbb_96000040dfb6row13_col10\" class=\"data row13 col10\" ></td>\n",
       "                        <td id=\"T_78ead602_ca3d_11ec_bdbb_96000040dfb6row13_col11\" class=\"data row13 col11\" ></td>\n",
       "                        <td id=\"T_78ead602_ca3d_11ec_bdbb_96000040dfb6row13_col12\" class=\"data row13 col12\" ></td>\n",
       "                        <td id=\"T_78ead602_ca3d_11ec_bdbb_96000040dfb6row13_col13\" class=\"data row13 col13\" ></td>\n",
       "            </tr>\n",
       "    </tbody></table>"
      ],
      "text/plain": [
       "<pandas.io.formats.style.Styler at 0x7fb8646f62e8>"
      ]
     },
     "execution_count": 11,
     "metadata": {},
     "output_type": "execute_result"
    }
   ],
   "source": [
    "cohort_analysis(retention_data, '2020-09-10', '2020-09-23', 0, 13)"
   ]
  },
  {
   "cell_type": "markdown",
   "metadata": {},
   "source": [
    "# Задача 2\n",
    "Имеются результаты A/B теста, в котором двум группам пользователей предлагались различные наборы акционных предложений. Известно, что ARPU в тестовой группе выше на 5%, чем в контрольной. При этом в контрольной группе 1928 игроков из 202103 оказались платящими, а в тестовой – 1805 из 202667.\n",
    "\n",
    "Ответить на вопросы:\n",
    "\n",
    "- Какой набор предложений можно считать лучшим?\n",
    "- Какие метрики стоит проанализировать для принятия правильного решения и как?"
   ]
  },
  {
   "cell_type": "code",
   "execution_count": 12,
   "metadata": {},
   "outputs": [],
   "source": [
    "exp_data = pd.read_csv('https://getfile.dokpub.com/yandex/get/https://disk.yandex.ru/d/12gk_ATEeBZm4A', sep=';')"
   ]
  },
  {
   "cell_type": "code",
   "execution_count": 13,
   "metadata": {},
   "outputs": [
    {
     "data": {
      "text/html": [
       "<div>\n",
       "<style scoped>\n",
       "    .dataframe tbody tr th:only-of-type {\n",
       "        vertical-align: middle;\n",
       "    }\n",
       "\n",
       "    .dataframe tbody tr th {\n",
       "        vertical-align: top;\n",
       "    }\n",
       "\n",
       "    .dataframe thead th {\n",
       "        text-align: right;\n",
       "    }\n",
       "</style>\n",
       "<table border=\"1\" class=\"dataframe\">\n",
       "  <thead>\n",
       "    <tr style=\"text-align: right;\">\n",
       "      <th></th>\n",
       "      <th>user_id</th>\n",
       "      <th>revenue</th>\n",
       "      <th>testgroup</th>\n",
       "    </tr>\n",
       "  </thead>\n",
       "  <tbody>\n",
       "    <tr>\n",
       "      <th>0</th>\n",
       "      <td>1</td>\n",
       "      <td>0</td>\n",
       "      <td>b</td>\n",
       "    </tr>\n",
       "    <tr>\n",
       "      <th>1</th>\n",
       "      <td>2</td>\n",
       "      <td>0</td>\n",
       "      <td>a</td>\n",
       "    </tr>\n",
       "    <tr>\n",
       "      <th>2</th>\n",
       "      <td>3</td>\n",
       "      <td>0</td>\n",
       "      <td>a</td>\n",
       "    </tr>\n",
       "    <tr>\n",
       "      <th>3</th>\n",
       "      <td>4</td>\n",
       "      <td>0</td>\n",
       "      <td>b</td>\n",
       "    </tr>\n",
       "    <tr>\n",
       "      <th>4</th>\n",
       "      <td>5</td>\n",
       "      <td>0</td>\n",
       "      <td>b</td>\n",
       "    </tr>\n",
       "  </tbody>\n",
       "</table>\n",
       "</div>"
      ],
      "text/plain": [
       "   user_id  revenue testgroup\n",
       "0        1        0         b\n",
       "1        2        0         a\n",
       "2        3        0         a\n",
       "3        4        0         b\n",
       "4        5        0         b"
      ]
     },
     "execution_count": 13,
     "metadata": {},
     "output_type": "execute_result"
    }
   ],
   "source": [
    "exp_data.head()"
   ]
  },
  {
   "cell_type": "code",
   "execution_count": 14,
   "metadata": {},
   "outputs": [
    {
     "name": "stdout",
     "output_type": "stream",
     "text": [
      "<class 'pandas.core.frame.DataFrame'>\n",
      "RangeIndex: 404770 entries, 0 to 404769\n",
      "Data columns (total 3 columns):\n",
      " #   Column     Non-Null Count   Dtype \n",
      "---  ------     --------------   ----- \n",
      " 0   user_id    404770 non-null  int64 \n",
      " 1   revenue    404770 non-null  int64 \n",
      " 2   testgroup  404770 non-null  object\n",
      "dtypes: int64(2), object(1)\n",
      "memory usage: 9.3+ MB\n"
     ]
    }
   ],
   "source": [
    "exp_data.info()"
   ]
  },
  {
   "cell_type": "markdown",
   "metadata": {},
   "source": [
    "Пропущенных значений в данных нет. Типы данных корректны."
   ]
  },
  {
   "cell_type": "code",
   "execution_count": 15,
   "metadata": {},
   "outputs": [
    {
     "data": {
      "text/plain": [
       "404770"
      ]
     },
     "execution_count": 15,
     "metadata": {},
     "output_type": "execute_result"
    }
   ],
   "source": [
    "# Проверка количества уникальных пользователей в исходных данных\n",
    "exp_data.user_id.nunique()"
   ]
  },
  {
   "cell_type": "markdown",
   "metadata": {},
   "source": [
    "Все пользователи являются уникальными"
   ]
  },
  {
   "cell_type": "code",
   "execution_count": 16,
   "metadata": {},
   "outputs": [],
   "source": [
    "# Разбивка данных по группам\n",
    "exp_a = exp_data.query(\"testgroup == 'a'\")\n",
    "exp_b = exp_data.query(\"testgroup == 'b'\")\n",
    "\n",
    "# Разбивка данных по группам, включая только платящих пользователей\n",
    "exp_a_payment = exp_data.query(\"testgroup == 'a' and revenue != 0\")\n",
    "exp_b_payment = exp_data.query(\"testgroup == 'b' and revenue != 0\")"
   ]
  },
  {
   "cell_type": "code",
   "execution_count": 17,
   "metadata": {},
   "outputs": [
    {
     "name": "stdout",
     "output_type": "stream",
     "text": [
      "ARPU для группы А: 25.41\n",
      "ARPU для группы B: 26.75\n",
      "Разница: 5.01%\n"
     ]
    }
   ],
   "source": [
    "# Расчитаем ARPU для обеих групп, посмотрим на разницу\n",
    "arpu_a = round(exp_a.revenue.sum() / exp_a.revenue.count(), 2)\n",
    "arpu_b = round(exp_b.revenue.sum() / exp_b.revenue.count(), 2)\n",
    "arpu_diff = round((arpu_b - arpu_a) / arpu_b * 100, 2)\n",
    "print(f'ARPU для группы А: {arpu_a}')\n",
    "print(f'ARPU для группы B: {arpu_b}')\n",
    "print(f'Разница: {arpu_diff}%')"
   ]
  },
  {
   "cell_type": "code",
   "execution_count": 18,
   "metadata": {},
   "outputs": [
    {
     "name": "stdout",
     "output_type": "stream",
     "text": [
      "ARPPU для группы А: 2664.0\n",
      "ARPPU для группы B: 3003.66\n",
      "Разница: 5.01%\n"
     ]
    }
   ],
   "source": [
    "# Расчитаем ARPPU для обеих групп, посмотрим на разницу\n",
    "arppu_a = round(exp_a_payment.revenue.sum() / exp_a_payment.revenue.count(), 2)\n",
    "arppu_b = round(exp_b_payment.revenue.sum() / exp_b_payment.revenue.count(), 2)\n",
    "arppu_diff = round((arpu_b - arpu_a) / arpu_b * 100, 2)\n",
    "print(f'ARPPU для группы А: {arppu_a}')\n",
    "print(f'ARPPU для группы B: {arppu_b}')\n",
    "print(f'Разница: {arppu_diff}%')"
   ]
  },
  {
   "cell_type": "markdown",
   "metadata": {},
   "source": [
    "После проверки данных заключаем, что контрольная группа - это группа A, тестовая - группа B."
   ]
  },
  {
   "cell_type": "markdown",
   "metadata": {},
   "source": [
    "Посмотрим на распределение выручки среди платящих пользователей."
   ]
  },
  {
   "cell_type": "code",
   "execution_count": 19,
   "metadata": {},
   "outputs": [
    {
     "data": {
      "text/plain": [
       "Text(0.5, 1.0, 'Распределение выручки среди платящих пользователей в группе A')"
      ]
     },
     "execution_count": 19,
     "metadata": {},
     "output_type": "execute_result"
    },
    {
     "data": {
      "image/png": "[encoded data removed]",
      "text/plain": [
       "<Figure size 540x360 with 1 Axes>"
      ]
     },
     "metadata": {
      "needs_background": "light"
     },
     "output_type": "display_data"
    }
   ],
   "source": [
    "sns.displot(exp_a_payment.revenue, aspect=1.5, bins=10)\n",
    "plt.title('Распределение выручки среди платящих пользователей в группе A')"
   ]
  },
  {
   "cell_type": "code",
   "execution_count": 20,
   "metadata": {},
   "outputs": [
    {
     "data": {
      "text/plain": [
       "Text(0.5, 1.0, 'Распределение выручки среди платящих пользователей в группе B')"
      ]
     },
     "execution_count": 20,
     "metadata": {},
     "output_type": "execute_result"
    },
    {
     "data": {
      "image/png": "[encoded data removed]",
      "text/plain": [
       "<Figure size 540x360 with 1 Axes>"
      ]
     },
     "metadata": {
      "needs_background": "light"
     },
     "output_type": "display_data"
    }
   ],
   "source": [
    "sns.displot(exp_b_payment.revenue, aspect=1.5, bins=10)\n",
    "plt.title('Распределение выручки среди платящих пользователей в группе B')"
   ]
  },
  {
   "cell_type": "markdown",
   "metadata": {},
   "source": [
    "### Выводы\n",
    "- Группа А: распределение визуально отличается от нормального, присутствуют заметные выбросы.\n",
    "- Группа В: распределение равномерно, заметные выбросы не наблюдаются.\n",
    "\n",
    "Неясна природа выбросов в группе А. Посмотрим на распределение выручки, убрав данные выбросы."
   ]
  },
  {
   "cell_type": "code",
   "execution_count": 21,
   "metadata": {},
   "outputs": [
    {
     "data": {
      "text/plain": [
       "Text(0.5, 1.0, 'Распределение выручки среди платящих пользователей в группе A (без выбросов)')"
      ]
     },
     "execution_count": 21,
     "metadata": {},
     "output_type": "execute_result"
    },
    {
     "data": {
      "image/png": "[encoded data removed]",
      "text/plain": [
       "<Figure size 540x360 with 1 Axes>"
      ]
     },
     "metadata": {
      "needs_background": "light"
     },
     "output_type": "display_data"
    }
   ],
   "source": [
    "sns.displot(exp_a_payment[exp_a_payment['revenue'] < 30000]['revenue'], aspect=1.5, bins=10)\n",
    "plt.title('Распределение выручки среди платящих пользователей в группе A (без выбросов)')"
   ]
  },
  {
   "cell_type": "markdown",
   "metadata": {},
   "source": [
    "Исключив выбросы заметно, что выручка в группе А также распределена равномерно."
   ]
  },
  {
   "cell_type": "markdown",
   "metadata": {},
   "source": [
    "Посмотрим на медианную выручку в группе А с выбросами и без выбросов"
   ]
  },
  {
   "cell_type": "code",
   "execution_count": 22,
   "metadata": {},
   "outputs": [
    {
     "data": {
      "text/plain": [
       "count     1928.000000\n",
       "mean      2663.998444\n",
       "std       9049.039763\n",
       "min        200.000000\n",
       "25%        257.000000\n",
       "50%        311.000000\n",
       "75%        361.000000\n",
       "max      37433.000000\n",
       "Name: revenue, dtype: float64"
      ]
     },
     "execution_count": 22,
     "metadata": {},
     "output_type": "execute_result"
    }
   ],
   "source": [
    "exp_a_payment.revenue.describe()"
   ]
  },
  {
   "cell_type": "code",
   "execution_count": 23,
   "metadata": {},
   "outputs": [
    {
     "data": {
      "text/plain": [
       "count    1805.000000\n",
       "mean      302.458172\n",
       "std        57.914246\n",
       "min       200.000000\n",
       "25%       254.000000\n",
       "50%       305.000000\n",
       "75%       352.000000\n",
       "max       400.000000\n",
       "Name: revenue, dtype: float64"
      ]
     },
     "execution_count": 23,
     "metadata": {},
     "output_type": "execute_result"
    }
   ],
   "source": [
    "exp_a_payment[exp_a_payment['revenue'] < 30000]['revenue'].describe()"
   ]
  },
  {
   "cell_type": "code",
   "execution_count": 24,
   "metadata": {},
   "outputs": [
    {
     "data": {
      "text/plain": [
       "count    1805.000000\n",
       "mean     3003.658172\n",
       "std       572.619709\n",
       "min      2000.000000\n",
       "25%      2513.000000\n",
       "50%      3022.000000\n",
       "75%      3478.000000\n",
       "max      4000.000000\n",
       "Name: revenue, dtype: float64"
      ]
     },
     "execution_count": 24,
     "metadata": {},
     "output_type": "execute_result"
    }
   ],
   "source": [
    "exp_b_payment.revenue.describe()"
   ]
  },
  {
   "cell_type": "markdown",
   "metadata": {},
   "source": [
    "### Выводы:\n",
    "Поведение пользователей двух групп кардинально различается. В группе А присутствуют заметные выбросы, а платежи в группе В распределены равномерно.\n",
    "\n",
    "Для эксперимента важно понимать что из себя представляют \"high-price\" клиенты в группе А. Можно ли называть их выбросами? Являются ли данные ошибки проблемой системы сплитования или это ошибки записи транзакций?\n",
    "\n",
    "В группе В выбросов нет, поэтому значения **ARPPU** и **MedianRPPU** вполне согласуются друг с другом (3003.66 и 3022), в то время как в группе А **ARPPU** с выбросами равен 2664.0, а **MedianRPPU** равен 311. Если убрать выбросы из группы А, то значения кардинально изменятся, **ARPPU** станет равен 302.45, а **MedianRPPU** не изменится сильно и будет равен 305."
   ]
  },
  {
   "cell_type": "markdown",
   "metadata": {},
   "source": [
    "### Посмотрим на CR в покупку в группах А и В"
   ]
  },
  {
   "cell_type": "code",
   "execution_count": 25,
   "metadata": {},
   "outputs": [
    {
     "name": "stdout",
     "output_type": "stream",
     "text": [
      "CR в покупку для группы А: 0.95\n",
      "CR в покупку для группы B: 0.89\n",
      "Разница: 0.06%\n"
     ]
    }
   ],
   "source": [
    "# Расчитаем CR в покупку для обеих групп, посмотрим на разницу\n",
    "cr_a = round(exp_a_payment.revenue.count() / exp_a.revenue.count() * 100, 2)\n",
    "cr_b = round(exp_b_payment.revenue.count() / exp_b.revenue.count() * 100, 2)\n",
    "cr_diff = round(cr_a - cr_b, 2)\n",
    "print(f'CR в покупку для группы А: {cr_a}')\n",
    "print(f'CR в покупку для группы B: {cr_b}')\n",
    "print(f'Разница: {cr_diff}%')"
   ]
  },
  {
   "cell_type": "markdown",
   "metadata": {},
   "source": [
    "Заметно, что в контрольной группе коверсия в покупку выше, чем в тестовой. Проверим статистическую значимость данных различий Z-тестом для пропорций."
   ]
  },
  {
   "cell_type": "code",
   "execution_count": 26,
   "metadata": {},
   "outputs": [
    {
     "name": "stdout",
     "output_type": "stream",
     "text": [
      "p_value = 0.035\n"
     ]
    }
   ],
   "source": [
    "# Проведём z-test для пропорций\n",
    "\n",
    "# В контрольной группе (а) 1928 платящих из 202103.\n",
    "# В тестовой группе (b) 1805 платящих из 202667.\n",
    "pay1 = 1928\n",
    "use1 = 202103\n",
    "pay2 = 1805\n",
    "use2 = 202667\n",
    "\n",
    "# H0 - различий в конверсиях нет\n",
    "# H1 - различия в конверсиях присутствуют\n",
    "z, p_value = proportions_ztest([pay1, pay2], [use1, use2])\n",
    "print(f'p_value = {p_value:.3}')"
   ]
  },
  {
   "cell_type": "markdown",
   "metadata": {},
   "source": [
    "Результат стастически значим, нулевая гипотеза о равенстве пропорций отвергается. Значит, количество платящих пользователей статистически значимо уменьшилось. Это для нас нехорошо. А если исключить из контрольной группы возможные выбросы?"
   ]
  },
  {
   "cell_type": "code",
   "execution_count": 27,
   "metadata": {},
   "outputs": [
    {
     "name": "stdout",
     "output_type": "stream",
     "text": [
      "p_value = 0.933\n"
     ]
    }
   ],
   "source": [
    "# Посчитаем количество покупателей в контрольной группе без выбросов\n",
    "pay3 = exp_a_payment[exp_a_payment['revenue'] < 30000].shape[0]\n",
    "\n",
    "# H0 - различий в конверсиях нет\n",
    "# H1 - различия в конверсиях присутствуют\n",
    "z, p_value = proportions_ztest([pay3, pay2], [use1, use2])\n",
    "print(f'p_value = {p_value:.3}')"
   ]
  },
  {
   "cell_type": "markdown",
   "metadata": {},
   "source": [
    "В таком случае нулевая гипотеза не отвергается. Но просто так исключить выбросы мы не можем, так как достоверно не знаем их природы. В связи с данным условием для проверки различий между ARPPU в группах необходимо использовать устойчивый к выбросам критерий."
   ]
  },
  {
   "cell_type": "markdown",
   "metadata": {},
   "source": [
    "### mannwhitneyu"
   ]
  },
  {
   "cell_type": "code",
   "execution_count": 28,
   "metadata": {},
   "outputs": [
    {
     "data": {
      "text/html": [
       "<div>\n",
       "<style scoped>\n",
       "    .dataframe tbody tr th:only-of-type {\n",
       "        vertical-align: middle;\n",
       "    }\n",
       "\n",
       "    .dataframe tbody tr th {\n",
       "        vertical-align: top;\n",
       "    }\n",
       "\n",
       "    .dataframe thead th {\n",
       "        text-align: right;\n",
       "    }\n",
       "</style>\n",
       "<table border=\"1\" class=\"dataframe\">\n",
       "  <thead>\n",
       "    <tr style=\"text-align: right;\">\n",
       "      <th></th>\n",
       "      <th>W</th>\n",
       "      <th>pval</th>\n",
       "      <th>normal</th>\n",
       "    </tr>\n",
       "  </thead>\n",
       "  <tbody>\n",
       "    <tr>\n",
       "      <th>revenue</th>\n",
       "      <td>0.266792</td>\n",
       "      <td>0.0</td>\n",
       "      <td>False</td>\n",
       "    </tr>\n",
       "  </tbody>\n",
       "</table>\n",
       "</div>"
      ],
      "text/plain": [
       "                W  pval  normal\n",
       "revenue  0.266792   0.0   False"
      ]
     },
     "execution_count": 28,
     "metadata": {},
     "output_type": "execute_result"
    }
   ],
   "source": [
    "# Проверка на нормальность распределения в группе А\n",
    "pg.normality(data=exp_a_payment.revenue)"
   ]
  },
  {
   "cell_type": "code",
   "execution_count": 29,
   "metadata": {},
   "outputs": [
    {
     "data": {
      "text/html": [
       "<div>\n",
       "<style scoped>\n",
       "    .dataframe tbody tr th:only-of-type {\n",
       "        vertical-align: middle;\n",
       "    }\n",
       "\n",
       "    .dataframe tbody tr th {\n",
       "        vertical-align: top;\n",
       "    }\n",
       "\n",
       "    .dataframe thead th {\n",
       "        text-align: right;\n",
       "    }\n",
       "</style>\n",
       "<table border=\"1\" class=\"dataframe\">\n",
       "  <thead>\n",
       "    <tr style=\"text-align: right;\">\n",
       "      <th></th>\n",
       "      <th>W</th>\n",
       "      <th>pval</th>\n",
       "      <th>normal</th>\n",
       "    </tr>\n",
       "  </thead>\n",
       "  <tbody>\n",
       "    <tr>\n",
       "      <th>revenue</th>\n",
       "      <td>0.958312</td>\n",
       "      <td>2.491346e-22</td>\n",
       "      <td>False</td>\n",
       "    </tr>\n",
       "  </tbody>\n",
       "</table>\n",
       "</div>"
      ],
      "text/plain": [
       "                W          pval  normal\n",
       "revenue  0.958312  2.491346e-22   False"
      ]
     },
     "execution_count": 29,
     "metadata": {},
     "output_type": "execute_result"
    }
   ],
   "source": [
    "# Проверка на нормальность распределения в группе В\n",
    "pg.normality(data=exp_b_payment.revenue)"
   ]
  },
  {
   "cell_type": "markdown",
   "metadata": {},
   "source": [
    "Распределения в группах статистически значимо отличаются от нормального."
   ]
  },
  {
   "cell_type": "code",
   "execution_count": 30,
   "metadata": {},
   "outputs": [
    {
     "data": {
      "text/plain": [
       "MannwhitneyuResult(statistic=222015.0, pvalue=0.0)"
      ]
     },
     "execution_count": 30,
     "metadata": {},
     "output_type": "execute_result"
    }
   ],
   "source": [
    "# Применение критерия Манна-Уитни для сравнения ARPPU\n",
    "mannwhitneyu(exp_a_payment.revenue, exp_b_payment.revenue)"
   ]
  },
  {
   "cell_type": "markdown",
   "metadata": {},
   "source": [
    "По результату теста Манна-Уитни p-value < 0.05. Можно утверждать, что разница в ARPPU между тестовой и контрольной группами статистически значима. Однако проблема данного теста состоит в том, что если мы видим статистически значимую разницу между значениями, мы не можем сказать, в чью они пользу, так как критерий Манна-Уитни сравнивает среднией ранги двух групп. Поэтому перейдем к методу bootstrap'а."
   ]
  },
  {
   "cell_type": "markdown",
   "metadata": {},
   "source": [
    "### bootstrap\n",
    "Для реализации проверки гипотез через bootstrap напишем функцию, которая будет реализовывать данный метод и сравним медианные значения MedianRPPU в двух группах, так как для медианы не применима ЦПТ."
   ]
  },
  {
   "cell_type": "code",
   "execution_count": 31,
   "metadata": {},
   "outputs": [],
   "source": [
    "# Объявим функцию, которая позволит проверять гипотезы с помощью бутстрапа\n",
    "def get_bootstrap(\n",
    "    data_column_1, # числовые значения первой выборки\n",
    "    data_column_2, # числовые значения второй выборки\n",
    "    boot_it = 1000, # количество бутстрэп-подвыборок\n",
    "    statistic = np.mean, # интересующая нас статистика\n",
    "    bootstrap_conf_level = 0.95 # уровень значимости\n",
    "):\n",
    "    boot_len = max([len(data_column_1), len(data_column_2)])\n",
    "    boot_data = []\n",
    "    for i in tqdm(range(boot_it)): # извлекаем подвыборки\n",
    "        samples_1 = data_column_1.sample(\n",
    "            boot_len, \n",
    "            replace = True # параметр возвращения\n",
    "        ).values\n",
    "        \n",
    "        samples_2 = data_column_2.sample(\n",
    "            boot_len, \n",
    "            replace = True\n",
    "        ).values\n",
    "        \n",
    "        boot_data.append(statistic(samples_1 - samples_2)) # mean() - применяем статистику\n",
    "        \n",
    "    pd_boot_data = pd.DataFrame(boot_data)\n",
    "        \n",
    "    left_quant = (1 - bootstrap_conf_level)/2\n",
    "    right_quant = 1 - (1 - bootstrap_conf_level) / 2\n",
    "    ci = pd_boot_data.quantile([left_quant, right_quant])\n",
    "        \n",
    "    p_1 = norm.cdf(\n",
    "        x = 0, \n",
    "        loc = np.mean(boot_data), \n",
    "        scale = np.std(boot_data)\n",
    "    )\n",
    "    p_2 = norm.cdf(\n",
    "        x = 0, \n",
    "        loc = -np.mean(boot_data), \n",
    "        scale = np.std(boot_data)\n",
    "    )\n",
    "    p_value = min(p_1, p_2) * 2\n",
    "        \n",
    "    # Визуализация\n",
    "    plt.hist(pd_boot_data[0], bins = 50)\n",
    "    \n",
    "    \n",
    "    plt.vlines(ci,ymin=0,ymax=50,linestyle='--')\n",
    "    plt.xlabel('boot_data')\n",
    "    plt.ylabel('frequency')\n",
    "    plt.title(\"Histogram of boot_data\")\n",
    "    plt.show()\n",
    "       \n",
    "    return {\"boot_data\": boot_data, \n",
    "            \"ci\": ci, \n",
    "            \"p_value\": p_value}"
   ]
  },
  {
   "cell_type": "markdown",
   "metadata": {},
   "source": [
    "Для начала сравним **ARPU** двух групп с помощью bootstrap.\n",
    "\n",
    "- Н0 - различия между **ARPU** отсутствуют\n",
    "- Н1 - **ARPU** в группах различны"
   ]
  },
  {
   "cell_type": "code",
   "execution_count": 32,
   "metadata": {},
   "outputs": [
    {
     "data": {
      "application/vnd.jupyter.widget-view+json": {
       "model_id": "6fa014b8549e4bf89397120f9abe1ecc",
       "version_major": 2,
       "version_minor": 0
      },
      "text/plain": [
       "HBox(children=(FloatProgress(value=0.0, max=2000.0), HTML(value='')))"
      ]
     },
     "metadata": {},
     "output_type": "display_data"
    },
    {
     "name": "stdout",
     "output_type": "stream",
     "text": [
      "\n"
     ]
    },
    {
     "data": {
      "image/png": "[encoded data removed]",
      "text/plain": [
       "<Figure size 432x288 with 1 Axes>"
      ]
     },
     "metadata": {
      "needs_background": "light"
     },
     "output_type": "display_data"
    }
   ],
   "source": [
    "# bootstrap для сравнения ARPU двух групп\n",
    "# в результате хранится разница двух распределений, ДИ и pvalue\n",
    "booted_arpu_mean = get_bootstrap(exp_a.revenue, \n",
    "                                 exp_b.revenue, \n",
    "                                 statistic = np.mean,\n",
    "                                 boot_it = 2000)"
   ]
  },
  {
   "cell_type": "code",
   "execution_count": 33,
   "metadata": {},
   "outputs": [
    {
     "data": {
      "text/plain": [
       "0.5283468009675983"
      ]
     },
     "execution_count": 33,
     "metadata": {},
     "output_type": "execute_result"
    }
   ],
   "source": [
    "booted_arpu_mean[\"p_value\"]"
   ]
  },
  {
   "cell_type": "markdown",
   "metadata": {},
   "source": [
    "Ноль попал в доверительный интервал, а p-val > 0.5, что не позволяет нам отвергнуть нулевую гипотезу о равенстве ARPU."
   ]
  },
  {
   "cell_type": "markdown",
   "metadata": {},
   "source": [
    "Cравним **ARPPU** двух групп с помощью bootstrap.\n",
    "\n",
    "- Н0 - различия между **ARPPU** отсутствуют\n",
    "- Н1 - **ARPPU** в группах различны"
   ]
  },
  {
   "cell_type": "code",
   "execution_count": 34,
   "metadata": {},
   "outputs": [
    {
     "data": {
      "application/vnd.jupyter.widget-view+json": {
       "model_id": "4fa60bc1ec38479a8b327a7fae7443c2",
       "version_major": 2,
       "version_minor": 0
      },
      "text/plain": [
       "HBox(children=(FloatProgress(value=0.0, max=2000.0), HTML(value='')))"
      ]
     },
     "metadata": {},
     "output_type": "display_data"
    },
    {
     "name": "stdout",
     "output_type": "stream",
     "text": [
      "\n"
     ]
    },
    {
     "data": {
      "image/png": "[encoded data removed]",
      "text/plain": [
       "<Figure size 432x288 with 1 Axes>"
      ]
     },
     "metadata": {
      "needs_background": "light"
     },
     "output_type": "display_data"
    }
   ],
   "source": [
    "# bootstrap для сравнения ARPPU двух групп\n",
    "# в результате хранится разница двух распределений, ДИ и pvalue\n",
    "booted_arppu_mean = get_bootstrap(exp_a_payment.revenue, \n",
    "                                  exp_b_payment.revenue, \n",
    "                                  statistic = np.mean,\n",
    "                                  boot_it = 2000)"
   ]
  },
  {
   "cell_type": "code",
   "execution_count": 35,
   "metadata": {},
   "outputs": [
    {
     "data": {
      "text/plain": [
       "0.0968367756875237"
      ]
     },
     "execution_count": 35,
     "metadata": {},
     "output_type": "execute_result"
    }
   ],
   "source": [
    "booted_arppu_mean[\"p_value\"]"
   ]
  },
  {
   "cell_type": "markdown",
   "metadata": {},
   "source": [
    "Ноль попал в доверительный интервал, а p-val > 0.5, что не позволяет нам отвергнуть нулевую гипотезу о равенстве ARPPU."
   ]
  },
  {
   "cell_type": "markdown",
   "metadata": {},
   "source": [
    "Cравним **MedianRPPU** двух групп с помощью bootstrap.\n",
    "\n",
    "- Н0 - различия между **MedianRPPU** отсутствуют\n",
    "- Н1 - **MedianRPPU** в группах различны"
   ]
  },
  {
   "cell_type": "code",
   "execution_count": 36,
   "metadata": {},
   "outputs": [
    {
     "data": {
      "application/vnd.jupyter.widget-view+json": {
       "model_id": "64a6bf564b2d4b6584a2887ddea4240e",
       "version_major": 2,
       "version_minor": 0
      },
      "text/plain": [
       "HBox(children=(FloatProgress(value=0.0, max=2000.0), HTML(value='')))"
      ]
     },
     "metadata": {},
     "output_type": "display_data"
    },
    {
     "name": "stdout",
     "output_type": "stream",
     "text": [
      "\n"
     ]
    },
    {
     "data": {
      "image/png": "[encoded data removed]",
      "text/plain": [
       "<Figure size 432x288 with 1 Axes>"
      ]
     },
     "metadata": {
      "needs_background": "light"
     },
     "output_type": "display_data"
    }
   ],
   "source": [
    "# bootstrap для сравнения MedianRPPU двух групп\n",
    "# в результате хранится разница двух распределений, ДИ и pvalue\n",
    "booted_arppu_median = get_bootstrap(exp_a_payment.revenue, \n",
    "                                    exp_b_payment.revenue, \n",
    "                                    statistic = np.median,\n",
    "                                    boot_it = 2000)"
   ]
  },
  {
   "cell_type": "code",
   "execution_count": 37,
   "metadata": {},
   "outputs": [
    {
     "data": {
      "text/plain": [
       "0.0"
      ]
     },
     "execution_count": 37,
     "metadata": {},
     "output_type": "execute_result"
    }
   ],
   "source": [
    "booted_arppu_median[\"p_value\"]"
   ]
  },
  {
   "cell_type": "markdown",
   "metadata": {},
   "source": [
    "Bootstrap для разницы медиан показал наличие стат значимых различий, что логично, так как медиане, в широком смысле, все равно на выбросы. Данный метод, на мой взгляд наиболее точно подходит к даннным с выбросами, так как он исключает трудности интерпретации теста Манна-Уитни, но за эту опцию исследователь платит сложностью (и возможно дороговизной) реализации."
   ]
  },
  {
   "cell_type": "markdown",
   "metadata": {},
   "source": [
    "### Общие выводы по задаче 2\n",
    "Трудно сделать однозначные выводы, потому что контрольная группа имеет большие выбросы , которые сильно влияют на среднее значение дохода с игрока и платящего игрока.\n",
    "Соответственно, мы получаем противоположные результаты в зависимости от того, включаем ли выбросы в контрольную группу или нет. \n",
    "\n",
    "Для окончательного вывода нужно изучить природу выбросов в группе А , выяснить их источник, проверить систему сплитования. Возможно рационально взять дополнительные маркетинговые данные, например, о расходах на данное акционое событие, чтобы посчитать **ROMI** и делать выводы на его базе.\n",
    "\n",
    "Тестовая группа имеет меньший коэффициент конверсии в покупку, чем контрольная группа. Разница в конверсии статистически значима, если учитывать всех игроков, но при исключении выбросов статзначимость исчезает.\n",
    "\n",
    "**ARPU**, **ARPPU** в тестовой группе больше, чем в контрольной.\n",
    "Если не исключать выбросы, применяя бутстрап, мы не можем отклонить нулевую гипотезу о равенстве средних и не можем сделать вывод, что **ARPU** и **ARPPU** тестовой группы статистически значимо больше, чем **ARPU** и **ARPPU** контрольной группы. Однако, используюя бутстрап с медианой, соответственно высчитывая **MedianRPPU**, то разница между группами будет статистически значима и показатели тестовой группы будут выше.\n",
    "\n",
    "Если окажется, что выбросы вызваны какой-то ошибкой, то мы можем внедрять набор предложений тестовой группы. В противном случае, если выбросы - это реальные \"high-price\" клиенты, то на них изменения пока не распространяем (по ним лучше отдельно провести А/В-тест и посмотреть, нравится им или нет)."
   ]
  },
  {
   "cell_type": "markdown",
   "metadata": {},
   "source": [
    "# Задача 3\n",
    "В игре Plants & Gardens каждый месяц проводятся тематические события, ограниченные по времени. В них игроки могут получить уникальные предметы для сада и персонажей, дополнительные монеты или бонусы. Для получения награды требуется пройти ряд уровней за определенное время. Ответить на вопрос:\n",
    "- C помощью каких метрик можно оценить результаты последнего прошедшего события?"
   ]
  },
  {
   "cell_type": "markdown",
   "metadata": {},
   "source": [
    "### Решение\n",
    "Перед построением системы метрик необходимо сформулировать пул задач, которые решает данное мероприятие в продукте:\n",
    "Цели проведения тематических событий в игре:\n",
    "- Привлечение новой аудитории в игру;\n",
    "- Удержание существующих пользователей в проекте;\n",
    "- Возврат ушедших пользователей из проекта;\n",
    "- Увеличение среднего времени использования приложения;\n",
    "- Если игра распространяется по модели free to play, то увеличение ARPU и ARPPU.\n",
    "\n",
    "Метрики для оценки результатов последнего прошедшего события:\n",
    "1.\t**DAU**\n",
    "2.\t**WAU**\n",
    "\n",
    "Метрики аудитории позволят оценить интерес к событию как на начало, так и на конец его проведения\n",
    "\n",
    "3.\t**Retention n-го дня** (для пользователей, принявших участие в предпоследнем событии в n-ный день последнего события) – позволит увидеть насколько хорошо проводимые события влияют на удержание аудитории;\n",
    "4.\t**CR в прохождение n-ного уровня** – воронка прохождения уровней позволит проследить насколько успешно пользователи проходят тот или иной уровень, поможет выявить проблемы в сложности уровней;\n",
    "5.\tЕсли игра распространяется по модели free to play, то рационально отслеживать **ARPU и ARPPU**, так как основной доход игра будет приносить с внутренней рекламы или микротранзакций;\n",
    "6.\tТакже, free to play модель зачастую предполагает наличие season pass для тематических событий, который позволяет получать различные награды. Может быть интересна метрика **CR в покупку season pass**;\n",
    "7.\t**Среднее время игровой сессии**, **среднее время прохождения тематического события в сессии**, **доля времени прохождения события во всем внутриигровом времени пользователя за период**. Среднее позволит в дальнейшем проводить статистические тесты с помощью параметрических или непараметрических статистических критериев;\n",
    "8.\t**Доля вернувшихся в проект пользователей**. Например, статус покинувшего игру пользователь может получить, если полностью пропустил 2 тематических события. Вернувшимся его можно считать, если он прошел n уровней в текущем тематическом событии.\n"
   ]
  },
  {
   "cell_type": "markdown",
   "metadata": {},
   "source": [
    "Предположим, в другом событии мы усложнили механику событий так, что при каждой неудачной попытке выполнения уровня игрок будет откатываться на несколько уровней назад. Ответить на вопросы:\n",
    "- Изменится ли набор метрик оценки результата?\n",
    "- Если да, то как?"
   ]
  },
  {
   "cell_type": "markdown",
   "metadata": {},
   "source": [
    "Изменится. К вышеописанному набору метрик добавиться **churn rate**."
   ]
  }
 ],
 "metadata": {
  "kernelspec": {
   "display_name": "Python 3",
   "language": "python",
   "name": "python3"
  },
  "language_info": {
   "codemirror_mode": {
    "name": "ipython",
    "version": 3
   },
   "file_extension": ".py",
   "mimetype": "text/x-python",
   "name": "python",
   "nbconvert_exporter": "python",
   "pygments_lexer": "ipython3",
   "version": "3.7.3"
  }
 },
 "nbformat": 4,
 "nbformat_minor": 4
}
